{
  "nbformat": 4,
  "nbformat_minor": 5,
  "metadata": {
    "kernelspec": {
      "display_name": "Python 3",
      "language": "python",
      "name": "python3"
    },
    "language_info": {
      "codemirror_mode": {
        "name": "ipython",
        "version": 3
      },
      "file_extension": ".py",
      "mimetype": "text/x-python",
      "name": "python",
      "nbconvert_exporter": "python",
      "pygments_lexer": "ipython3",
      "version": "3.7.10"
    },
    "papermill": {
      "default_parameters": {},
      "duration": 25.09993,
      "end_time": "2021-04-29T04:23:20.821161",
      "environment_variables": {},
      "exception": null,
      "input_path": "__notebook__.ipynb",
      "output_path": "__notebook__.ipynb",
      "parameters": {},
      "start_time": "2021-04-29T04:22:55.721231",
      "version": "2.3.3"
    },
    "colab": {
      "name": "Task 3: Exploratory Data Analysis - Retail .ipynb",
      "provenance": [],
      "include_colab_link": true
    }
  },
  "cells": [
    {
      "cell_type": "markdown",
      "metadata": {
        "id": "view-in-github",
        "colab_type": "text"
      },
      "source": [
        "<a href=\"https://colab.research.google.com/github/suryaprakash20/Internship-at-The-Sparks-Foundation/blob/main/Task_3_Exploratory_Data_Analysis_Retail_.ipynb\" target=\"_parent\"><img src=\"https://colab.research.google.com/assets/colab-badge.svg\" alt=\"Open In Colab\"/></a>"
      ]
    },
    {
      "cell_type": "markdown",
      "metadata": {
        "id": "z_MEDmxCbp5I"
      },
      "source": [
        "# Task 3: Exploratory Data Analysis - Retail \n",
        "\n",
        "● Perform ‘Exploratory Data Analysis’ on dataset ‘SampleSuperstore’\n",
        "\n",
        "● As a business manager, try to find out the weak areas where you can\n",
        "work to make more profit.\n",
        "\n",
        "● What all business problems you can derive by exploring the data?\n",
        "\n",
        "\n",
        "-- surya prakash.v"
      ],
      "id": "z_MEDmxCbp5I"
    },
    {
      "cell_type": "code",
      "metadata": {
        "_cell_guid": "b1076dfc-b9ad-4769-8c92-a6c4dae69d19",
        "_uuid": "8f2839f25d086af736a60e9eeb907d3b93b6e0e5",
        "execution": {
          "iopub.execute_input": "2021-04-29T04:23:04.952235Z",
          "iopub.status.busy": "2021-04-29T04:23:04.950978Z",
          "iopub.status.idle": "2021-04-29T04:23:05.874867Z",
          "shell.execute_reply": "2021-04-29T04:23:05.875494Z"
        },
        "papermill": {
          "duration": 0.974914,
          "end_time": "2021-04-29T04:23:05.875903",
          "exception": false,
          "start_time": "2021-04-29T04:23:04.900989",
          "status": "completed"
        },
        "tags": [],
        "id": "composite-dubai"
      },
      "source": [
        "#import the necessary Libraries\n",
        "import pandas as pd\n",
        "import numpy as np\n",
        "import matplotlib.pyplot as plt\n",
        "import seaborn as sns\n",
        "%matplotlib inline"
      ],
      "id": "composite-dubai",
      "execution_count": 5,
      "outputs": []
    },
    {
      "cell_type": "code",
      "metadata": {
        "execution": {
          "iopub.execute_input": "2021-04-29T04:23:05.971243Z",
          "iopub.status.busy": "2021-04-29T04:23:05.970526Z",
          "iopub.status.idle": "2021-04-29T04:23:06.083450Z",
          "shell.execute_reply": "2021-04-29T04:23:06.084015Z"
        },
        "papermill": {
          "duration": 0.161866,
          "end_time": "2021-04-29T04:23:06.084359",
          "exception": false,
          "start_time": "2021-04-29T04:23:05.922493",
          "status": "completed"
        },
        "tags": [],
        "id": "saved-victorian"
      },
      "source": [
        "df = pd.read_csv('SampleSuperstore.csv') #Read the dataset"
      ],
      "id": "saved-victorian",
      "execution_count": 6,
      "outputs": []
    },
    {
      "cell_type": "code",
      "metadata": {
        "execution": {
          "iopub.execute_input": "2021-04-29T04:23:06.179468Z",
          "iopub.status.busy": "2021-04-29T04:23:06.178666Z",
          "iopub.status.idle": "2021-04-29T04:23:06.218899Z",
          "shell.execute_reply": "2021-04-29T04:23:06.219420Z"
        },
        "papermill": {
          "duration": 0.089778,
          "end_time": "2021-04-29T04:23:06.219628",
          "exception": false,
          "start_time": "2021-04-29T04:23:06.129850",
          "status": "completed"
        },
        "tags": [],
        "colab": {
          "base_uri": "https://localhost:8080/",
          "height": 322
        },
        "id": "corresponding-applicant",
        "outputId": "5c871843-49b1-4eab-9b7e-80724be84c4e"
      },
      "source": [
        "df.head()"
      ],
      "id": "corresponding-applicant",
      "execution_count": 7,
      "outputs": [
        {
          "output_type": "execute_result",
          "data": {
            "text/html": [
              "<div>\n",
              "<style scoped>\n",
              "    .dataframe tbody tr th:only-of-type {\n",
              "        vertical-align: middle;\n",
              "    }\n",
              "\n",
              "    .dataframe tbody tr th {\n",
              "        vertical-align: top;\n",
              "    }\n",
              "\n",
              "    .dataframe thead th {\n",
              "        text-align: right;\n",
              "    }\n",
              "</style>\n",
              "<table border=\"1\" class=\"dataframe\">\n",
              "  <thead>\n",
              "    <tr style=\"text-align: right;\">\n",
              "      <th></th>\n",
              "      <th>Ship Mode</th>\n",
              "      <th>Segment</th>\n",
              "      <th>Country</th>\n",
              "      <th>City</th>\n",
              "      <th>State</th>\n",
              "      <th>Postal Code</th>\n",
              "      <th>Region</th>\n",
              "      <th>Category</th>\n",
              "      <th>Sub-Category</th>\n",
              "      <th>Sales</th>\n",
              "      <th>Quantity</th>\n",
              "      <th>Discount</th>\n",
              "      <th>Profit</th>\n",
              "    </tr>\n",
              "  </thead>\n",
              "  <tbody>\n",
              "    <tr>\n",
              "      <th>0</th>\n",
              "      <td>Second Class</td>\n",
              "      <td>Consumer</td>\n",
              "      <td>United States</td>\n",
              "      <td>Henderson</td>\n",
              "      <td>Kentucky</td>\n",
              "      <td>42420</td>\n",
              "      <td>South</td>\n",
              "      <td>Furniture</td>\n",
              "      <td>Bookcases</td>\n",
              "      <td>261.9600</td>\n",
              "      <td>2</td>\n",
              "      <td>0.00</td>\n",
              "      <td>41.9136</td>\n",
              "    </tr>\n",
              "    <tr>\n",
              "      <th>1</th>\n",
              "      <td>Second Class</td>\n",
              "      <td>Consumer</td>\n",
              "      <td>United States</td>\n",
              "      <td>Henderson</td>\n",
              "      <td>Kentucky</td>\n",
              "      <td>42420</td>\n",
              "      <td>South</td>\n",
              "      <td>Furniture</td>\n",
              "      <td>Chairs</td>\n",
              "      <td>731.9400</td>\n",
              "      <td>3</td>\n",
              "      <td>0.00</td>\n",
              "      <td>219.5820</td>\n",
              "    </tr>\n",
              "    <tr>\n",
              "      <th>2</th>\n",
              "      <td>Second Class</td>\n",
              "      <td>Corporate</td>\n",
              "      <td>United States</td>\n",
              "      <td>Los Angeles</td>\n",
              "      <td>California</td>\n",
              "      <td>90036</td>\n",
              "      <td>West</td>\n",
              "      <td>Office Supplies</td>\n",
              "      <td>Labels</td>\n",
              "      <td>14.6200</td>\n",
              "      <td>2</td>\n",
              "      <td>0.00</td>\n",
              "      <td>6.8714</td>\n",
              "    </tr>\n",
              "    <tr>\n",
              "      <th>3</th>\n",
              "      <td>Standard Class</td>\n",
              "      <td>Consumer</td>\n",
              "      <td>United States</td>\n",
              "      <td>Fort Lauderdale</td>\n",
              "      <td>Florida</td>\n",
              "      <td>33311</td>\n",
              "      <td>South</td>\n",
              "      <td>Furniture</td>\n",
              "      <td>Tables</td>\n",
              "      <td>957.5775</td>\n",
              "      <td>5</td>\n",
              "      <td>0.45</td>\n",
              "      <td>-383.0310</td>\n",
              "    </tr>\n",
              "    <tr>\n",
              "      <th>4</th>\n",
              "      <td>Standard Class</td>\n",
              "      <td>Consumer</td>\n",
              "      <td>United States</td>\n",
              "      <td>Fort Lauderdale</td>\n",
              "      <td>Florida</td>\n",
              "      <td>33311</td>\n",
              "      <td>South</td>\n",
              "      <td>Office Supplies</td>\n",
              "      <td>Storage</td>\n",
              "      <td>22.3680</td>\n",
              "      <td>2</td>\n",
              "      <td>0.20</td>\n",
              "      <td>2.5164</td>\n",
              "    </tr>\n",
              "  </tbody>\n",
              "</table>\n",
              "</div>"
            ],
            "text/plain": [
              "        Ship Mode    Segment        Country  ... Quantity Discount    Profit\n",
              "0    Second Class   Consumer  United States  ...        2     0.00   41.9136\n",
              "1    Second Class   Consumer  United States  ...        3     0.00  219.5820\n",
              "2    Second Class  Corporate  United States  ...        2     0.00    6.8714\n",
              "3  Standard Class   Consumer  United States  ...        5     0.45 -383.0310\n",
              "4  Standard Class   Consumer  United States  ...        2     0.20    2.5164\n",
              "\n",
              "[5 rows x 13 columns]"
            ]
          },
          "metadata": {
            "tags": []
          },
          "execution_count": 7
        }
      ]
    },
    {
      "cell_type": "code",
      "metadata": {
        "execution": {
          "iopub.execute_input": "2021-04-29T04:23:06.315881Z",
          "iopub.status.busy": "2021-04-29T04:23:06.315124Z",
          "iopub.status.idle": "2021-04-29T04:23:06.321267Z",
          "shell.execute_reply": "2021-04-29T04:23:06.321732Z"
        },
        "papermill": {
          "duration": 0.055558,
          "end_time": "2021-04-29T04:23:06.321926",
          "exception": false,
          "start_time": "2021-04-29T04:23:06.266368",
          "status": "completed"
        },
        "tags": [],
        "colab": {
          "base_uri": "https://localhost:8080/"
        },
        "id": "proud-maldives",
        "outputId": "0be818f6-4888-49f2-9212-2ba09c1b934f"
      },
      "source": [
        "df.shape"
      ],
      "id": "proud-maldives",
      "execution_count": 8,
      "outputs": [
        {
          "output_type": "execute_result",
          "data": {
            "text/plain": [
              "(9994, 13)"
            ]
          },
          "metadata": {
            "tags": []
          },
          "execution_count": 8
        }
      ]
    },
    {
      "cell_type": "code",
      "metadata": {
        "execution": {
          "iopub.execute_input": "2021-04-29T04:23:06.426535Z",
          "iopub.status.busy": "2021-04-29T04:23:06.425556Z",
          "iopub.status.idle": "2021-04-29T04:23:06.448677Z",
          "shell.execute_reply": "2021-04-29T04:23:06.447971Z"
        },
        "papermill": {
          "duration": 0.080134,
          "end_time": "2021-04-29T04:23:06.448819",
          "exception": false,
          "start_time": "2021-04-29T04:23:06.368685",
          "status": "completed"
        },
        "tags": [],
        "colab": {
          "base_uri": "https://localhost:8080/",
          "height": 291
        },
        "id": "convertible-antarctica",
        "outputId": "f80a28cc-7800-4d33-aab9-fedd68637856"
      },
      "source": [
        "df.describe()"
      ],
      "id": "convertible-antarctica",
      "execution_count": 9,
      "outputs": [
        {
          "output_type": "execute_result",
          "data": {
            "text/html": [
              "<div>\n",
              "<style scoped>\n",
              "    .dataframe tbody tr th:only-of-type {\n",
              "        vertical-align: middle;\n",
              "    }\n",
              "\n",
              "    .dataframe tbody tr th {\n",
              "        vertical-align: top;\n",
              "    }\n",
              "\n",
              "    .dataframe thead th {\n",
              "        text-align: right;\n",
              "    }\n",
              "</style>\n",
              "<table border=\"1\" class=\"dataframe\">\n",
              "  <thead>\n",
              "    <tr style=\"text-align: right;\">\n",
              "      <th></th>\n",
              "      <th>Postal Code</th>\n",
              "      <th>Sales</th>\n",
              "      <th>Quantity</th>\n",
              "      <th>Discount</th>\n",
              "      <th>Profit</th>\n",
              "    </tr>\n",
              "  </thead>\n",
              "  <tbody>\n",
              "    <tr>\n",
              "      <th>count</th>\n",
              "      <td>9994.000000</td>\n",
              "      <td>9994.000000</td>\n",
              "      <td>9994.000000</td>\n",
              "      <td>9994.000000</td>\n",
              "      <td>9994.000000</td>\n",
              "    </tr>\n",
              "    <tr>\n",
              "      <th>mean</th>\n",
              "      <td>55190.379428</td>\n",
              "      <td>229.858001</td>\n",
              "      <td>3.789574</td>\n",
              "      <td>0.156203</td>\n",
              "      <td>28.656896</td>\n",
              "    </tr>\n",
              "    <tr>\n",
              "      <th>std</th>\n",
              "      <td>32063.693350</td>\n",
              "      <td>623.245101</td>\n",
              "      <td>2.225110</td>\n",
              "      <td>0.206452</td>\n",
              "      <td>234.260108</td>\n",
              "    </tr>\n",
              "    <tr>\n",
              "      <th>min</th>\n",
              "      <td>1040.000000</td>\n",
              "      <td>0.444000</td>\n",
              "      <td>1.000000</td>\n",
              "      <td>0.000000</td>\n",
              "      <td>-6599.978000</td>\n",
              "    </tr>\n",
              "    <tr>\n",
              "      <th>25%</th>\n",
              "      <td>23223.000000</td>\n",
              "      <td>17.280000</td>\n",
              "      <td>2.000000</td>\n",
              "      <td>0.000000</td>\n",
              "      <td>1.728750</td>\n",
              "    </tr>\n",
              "    <tr>\n",
              "      <th>50%</th>\n",
              "      <td>56430.500000</td>\n",
              "      <td>54.490000</td>\n",
              "      <td>3.000000</td>\n",
              "      <td>0.200000</td>\n",
              "      <td>8.666500</td>\n",
              "    </tr>\n",
              "    <tr>\n",
              "      <th>75%</th>\n",
              "      <td>90008.000000</td>\n",
              "      <td>209.940000</td>\n",
              "      <td>5.000000</td>\n",
              "      <td>0.200000</td>\n",
              "      <td>29.364000</td>\n",
              "    </tr>\n",
              "    <tr>\n",
              "      <th>max</th>\n",
              "      <td>99301.000000</td>\n",
              "      <td>22638.480000</td>\n",
              "      <td>14.000000</td>\n",
              "      <td>0.800000</td>\n",
              "      <td>8399.976000</td>\n",
              "    </tr>\n",
              "  </tbody>\n",
              "</table>\n",
              "</div>"
            ],
            "text/plain": [
              "        Postal Code         Sales     Quantity     Discount       Profit\n",
              "count   9994.000000   9994.000000  9994.000000  9994.000000  9994.000000\n",
              "mean   55190.379428    229.858001     3.789574     0.156203    28.656896\n",
              "std    32063.693350    623.245101     2.225110     0.206452   234.260108\n",
              "min     1040.000000      0.444000     1.000000     0.000000 -6599.978000\n",
              "25%    23223.000000     17.280000     2.000000     0.000000     1.728750\n",
              "50%    56430.500000     54.490000     3.000000     0.200000     8.666500\n",
              "75%    90008.000000    209.940000     5.000000     0.200000    29.364000\n",
              "max    99301.000000  22638.480000    14.000000     0.800000  8399.976000"
            ]
          },
          "metadata": {
            "tags": []
          },
          "execution_count": 9
        }
      ]
    },
    {
      "cell_type": "code",
      "metadata": {
        "execution": {
          "iopub.execute_input": "2021-04-29T04:23:06.547746Z",
          "iopub.status.busy": "2021-04-29T04:23:06.547032Z",
          "iopub.status.idle": "2021-04-29T04:23:06.550602Z",
          "shell.execute_reply": "2021-04-29T04:23:06.551099Z"
        },
        "papermill": {
          "duration": 0.056114,
          "end_time": "2021-04-29T04:23:06.551293",
          "exception": false,
          "start_time": "2021-04-29T04:23:06.495179",
          "status": "completed"
        },
        "tags": [],
        "colab": {
          "base_uri": "https://localhost:8080/"
        },
        "id": "waiting-touch",
        "outputId": "7070be34-f7f9-4f01-8e7e-de2c8546fdd9"
      },
      "source": [
        "df.columns"
      ],
      "id": "waiting-touch",
      "execution_count": 10,
      "outputs": [
        {
          "output_type": "execute_result",
          "data": {
            "text/plain": [
              "Index(['Ship Mode', 'Segment', 'Country', 'City', 'State', 'Postal Code',\n",
              "       'Region', 'Category', 'Sub-Category', 'Sales', 'Quantity', 'Discount',\n",
              "       'Profit'],\n",
              "      dtype='object')"
            ]
          },
          "metadata": {
            "tags": []
          },
          "execution_count": 10
        }
      ]
    },
    {
      "cell_type": "code",
      "metadata": {
        "execution": {
          "iopub.execute_input": "2021-04-29T04:23:06.962552Z",
          "iopub.status.busy": "2021-04-29T04:23:06.961907Z",
          "iopub.status.idle": "2021-04-29T04:23:06.982741Z",
          "shell.execute_reply": "2021-04-29T04:23:06.983436Z"
        },
        "papermill": {
          "duration": 0.072951,
          "end_time": "2021-04-29T04:23:06.983626",
          "exception": false,
          "start_time": "2021-04-29T04:23:06.910675",
          "status": "completed"
        },
        "tags": [],
        "id": "cardiovascular-nomination",
        "outputId": "01e53161-ed61-4e08-89ee-33f0c155f23c"
      },
      "source": [
        "df1.isnull().sum()"
      ],
      "id": "cardiovascular-nomination",
      "execution_count": null,
      "outputs": [
        {
          "output_type": "execute_result",
          "data": {
            "text/plain": [
              "Order Date        0\n",
              "Ship Date         0\n",
              "Ship Mode         0\n",
              "Customer Name     0\n",
              "Segment           0\n",
              "Country           0\n",
              "City              0\n",
              "State             0\n",
              "Postal Code      11\n",
              "Region            0\n",
              "Category          0\n",
              "Sub-Category      0\n",
              "Product Name      0\n",
              "Sales             0\n",
              "dtype: int64"
            ]
          },
          "metadata": {
            "tags": []
          },
          "execution_count": 8
        }
      ]
    },
    {
      "cell_type": "markdown",
      "metadata": {
        "papermill": {
          "duration": 0.049076,
          "end_time": "2021-04-29T04:23:07.082305",
          "exception": false,
          "start_time": "2021-04-29T04:23:07.033229",
          "status": "completed"
        },
        "tags": [],
        "id": "crucial-ideal"
      },
      "source": [
        "We have found that there are some null values in our Postal Code Column\n",
        "\n",
        "###### Let's find those rows"
      ],
      "id": "crucial-ideal"
    },
    {
      "cell_type": "code",
      "metadata": {
        "execution": {
          "iopub.execute_input": "2021-04-29T04:23:07.183260Z",
          "iopub.status.busy": "2021-04-29T04:23:07.182591Z",
          "iopub.status.idle": "2021-04-29T04:23:07.207110Z",
          "shell.execute_reply": "2021-04-29T04:23:07.207682Z"
        },
        "papermill": {
          "duration": 0.07687,
          "end_time": "2021-04-29T04:23:07.207913",
          "exception": false,
          "start_time": "2021-04-29T04:23:07.131043",
          "status": "completed"
        },
        "tags": [],
        "colab": {
          "base_uri": "https://localhost:8080/"
        },
        "id": "hairy-committee",
        "outputId": "2570d407-0765-4385-9198-2d50ea28d006"
      },
      "source": [
        "df[\"Postal Code\"].isnull()"
      ],
      "id": "hairy-committee",
      "execution_count": 14,
      "outputs": [
        {
          "output_type": "execute_result",
          "data": {
            "text/plain": [
              "0       False\n",
              "1       False\n",
              "2       False\n",
              "3       False\n",
              "4       False\n",
              "        ...  \n",
              "9989    False\n",
              "9990    False\n",
              "9991    False\n",
              "9992    False\n",
              "9993    False\n",
              "Name: Postal Code, Length: 9994, dtype: bool"
            ]
          },
          "metadata": {
            "tags": []
          },
          "execution_count": 14
        }
      ]
    },
    {
      "cell_type": "markdown",
      "metadata": {
        "papermill": {
          "duration": 0.049729,
          "end_time": "2021-04-29T04:23:07.308074",
          "exception": false,
          "start_time": "2021-04-29T04:23:07.258345",
          "status": "completed"
        },
        "tags": [],
        "id": "sensitive-daisy"
      },
      "source": [
        "###### As per google the postal code for the state Vermont is 5401 and let's fill it\n"
      ],
      "id": "sensitive-daisy"
    },
    {
      "cell_type": "code",
      "metadata": {
        "execution": {
          "iopub.execute_input": "2021-04-29T04:23:07.410889Z",
          "iopub.status.busy": "2021-04-29T04:23:07.410228Z",
          "iopub.status.idle": "2021-04-29T04:23:07.414783Z",
          "shell.execute_reply": "2021-04-29T04:23:07.415332Z"
        },
        "papermill": {
          "duration": 0.057724,
          "end_time": "2021-04-29T04:23:07.415534",
          "exception": false,
          "start_time": "2021-04-29T04:23:07.357810",
          "status": "completed"
        },
        "tags": [],
        "id": "waiting-neighborhood"
      },
      "source": [
        "df = df.drop(['Postal Code'],axis = 1) "
      ],
      "id": "waiting-neighborhood",
      "execution_count": 15,
      "outputs": []
    },
    {
      "cell_type": "code",
      "metadata": {
        "execution": {
          "iopub.execute_input": "2021-04-29T04:23:07.518487Z",
          "iopub.status.busy": "2021-04-29T04:23:07.517778Z",
          "iopub.status.idle": "2021-04-29T04:23:07.537637Z",
          "shell.execute_reply": "2021-04-29T04:23:07.538150Z"
        },
        "papermill": {
          "duration": 0.072519,
          "end_time": "2021-04-29T04:23:07.538365",
          "exception": false,
          "start_time": "2021-04-29T04:23:07.465846",
          "status": "completed"
        },
        "tags": [],
        "colab": {
          "base_uri": "https://localhost:8080/"
        },
        "id": "continued-lithuania",
        "outputId": "6b80d629-4bc1-481d-fd83-ee0a4b581688"
      },
      "source": [
        "df.isnull().sum()"
      ],
      "id": "continued-lithuania",
      "execution_count": 16,
      "outputs": [
        {
          "output_type": "execute_result",
          "data": {
            "text/plain": [
              "Ship Mode       0\n",
              "Segment         0\n",
              "Country         0\n",
              "City            0\n",
              "State           0\n",
              "Region          0\n",
              "Category        0\n",
              "Sub-Category    0\n",
              "Sales           0\n",
              "Quantity        0\n",
              "Discount        0\n",
              "Profit          0\n",
              "dtype: int64"
            ]
          },
          "metadata": {
            "tags": []
          },
          "execution_count": 16
        }
      ]
    },
    {
      "cell_type": "markdown",
      "metadata": {
        "papermill": {
          "duration": 0.054425,
          "end_time": "2021-04-29T04:23:08.577341",
          "exception": false,
          "start_time": "2021-04-29T04:23:08.522916",
          "status": "completed"
        },
        "tags": [],
        "id": "uniform-occupation"
      },
      "source": [
        "# Analyzing and Visualizing our Data\n",
        "\n",
        "#### To get valuable insights"
      ],
      "id": "uniform-occupation"
    },
    {
      "cell_type": "code",
      "metadata": {
        "colab": {
          "base_uri": "https://localhost:8080/",
          "height": 297
        },
        "id": "DTf_CfiPh40F",
        "outputId": "fe58e7af-3739-4f45-accf-0196207f7991"
      },
      "source": [
        "sns.countplot(x=df['Ship Mode'])"
      ],
      "id": "DTf_CfiPh40F",
      "execution_count": 20,
      "outputs": [
        {
          "output_type": "execute_result",
          "data": {
            "text/plain": [
              "<matplotlib.axes._subplots.AxesSubplot at 0x7fa88f9d5ed0>"
            ]
          },
          "metadata": {
            "tags": []
          },
          "execution_count": 20
        },
        {
          "output_type": "display_data",
          "data": {
            "image/png": "[encoded data removed]",
            "text/plain": [
              "<Figure size 432x288 with 1 Axes>"
            ]
          },
          "metadata": {
            "tags": [],
            "needs_background": "light"
          }
        }
      ]
    },
    {
      "cell_type": "code",
      "metadata": {
        "colab": {
          "base_uri": "https://localhost:8080/",
          "height": 297
        },
        "id": "-88P3_DVh9A0",
        "outputId": "6697c184-4b30-4faf-acd7-b1fcc6c99583"
      },
      "source": [
        "sns.countplot(x = 'Segment',data = df)"
      ],
      "id": "-88P3_DVh9A0",
      "execution_count": 21,
      "outputs": [
        {
          "output_type": "execute_result",
          "data": {
            "text/plain": [
              "<matplotlib.axes._subplots.AxesSubplot at 0x7fa88f416110>"
            ]
          },
          "metadata": {
            "tags": []
          },
          "execution_count": 21
        },
        {
          "output_type": "display_data",
          "data": {
            "image/png": "[encoded data removed]",
            "text/plain": [
              "<Figure size 432x288 with 1 Axes>"
            ]
          },
          "metadata": {
            "tags": [],
            "needs_background": "light"
          }
        }
      ]
    },
    {
      "cell_type": "markdown",
      "metadata": {
        "papermill": {
          "duration": 0.072138,
          "end_time": "2021-04-29T04:23:12.120437",
          "exception": false,
          "start_time": "2021-04-29T04:23:12.048299",
          "status": "completed"
        },
        "tags": [],
        "id": "adult-cheat"
      },
      "source": [
        "### Sales based on City"
      ],
      "id": "adult-cheat"
    },
    {
      "cell_type": "code",
      "metadata": {
        "execution": {
          "iopub.execute_input": "2021-04-29T04:23:12.253869Z",
          "iopub.status.busy": "2021-04-29T04:23:12.253178Z",
          "iopub.status.idle": "2021-04-29T04:23:12.265771Z",
          "shell.execute_reply": "2021-04-29T04:23:12.264979Z"
        },
        "papermill": {
          "duration": 0.080256,
          "end_time": "2021-04-29T04:23:12.265951",
          "exception": false,
          "start_time": "2021-04-29T04:23:12.185695",
          "status": "completed"
        },
        "tags": [],
        "id": "wound-liquid"
      },
      "source": [
        "city = df.groupby(\"City\").sum().sort_values(\"Sales\", ascending = False).head(15)"
      ],
      "id": "wound-liquid",
      "execution_count": 22,
      "outputs": []
    },
    {
      "cell_type": "code",
      "metadata": {
        "execution": {
          "iopub.execute_input": "2021-04-29T04:23:12.405757Z",
          "iopub.status.busy": "2021-04-29T04:23:12.404986Z",
          "iopub.status.idle": "2021-04-29T04:23:12.408145Z",
          "shell.execute_reply": "2021-04-29T04:23:12.407525Z"
        },
        "papermill": {
          "duration": 0.077147,
          "end_time": "2021-04-29T04:23:12.408328",
          "exception": false,
          "start_time": "2021-04-29T04:23:12.331181",
          "status": "completed"
        },
        "tags": [],
        "id": "iraqi-temperature"
      },
      "source": [
        "city = city[[\"Sales\"]].round(2)\n",
        "\n",
        "city.reset_index(inplace = True)"
      ],
      "id": "iraqi-temperature",
      "execution_count": 23,
      "outputs": []
    },
    {
      "cell_type": "code",
      "metadata": {
        "execution": {
          "iopub.execute_input": "2021-04-29T04:23:12.552148Z",
          "iopub.status.busy": "2021-04-29T04:23:12.551448Z",
          "iopub.status.idle": "2021-04-29T04:23:12.556261Z",
          "shell.execute_reply": "2021-04-29T04:23:12.555525Z"
        },
        "papermill": {
          "duration": 0.081749,
          "end_time": "2021-04-29T04:23:12.556424",
          "exception": false,
          "start_time": "2021-04-29T04:23:12.474675",
          "status": "completed"
        },
        "tags": [],
        "colab": {
          "base_uri": "https://localhost:8080/",
          "height": 504
        },
        "id": "circular-studio",
        "outputId": "f8118416-8bc8-4393-eac2-967b24615a03"
      },
      "source": [
        "city"
      ],
      "id": "circular-studio",
      "execution_count": 24,
      "outputs": [
        {
          "output_type": "execute_result",
          "data": {
            "text/html": [
              "<div>\n",
              "<style scoped>\n",
              "    .dataframe tbody tr th:only-of-type {\n",
              "        vertical-align: middle;\n",
              "    }\n",
              "\n",
              "    .dataframe tbody tr th {\n",
              "        vertical-align: top;\n",
              "    }\n",
              "\n",
              "    .dataframe thead th {\n",
              "        text-align: right;\n",
              "    }\n",
              "</style>\n",
              "<table border=\"1\" class=\"dataframe\">\n",
              "  <thead>\n",
              "    <tr style=\"text-align: right;\">\n",
              "      <th></th>\n",
              "      <th>City</th>\n",
              "      <th>Sales</th>\n",
              "    </tr>\n",
              "  </thead>\n",
              "  <tbody>\n",
              "    <tr>\n",
              "      <th>0</th>\n",
              "      <td>New York City</td>\n",
              "      <td>256368.16</td>\n",
              "    </tr>\n",
              "    <tr>\n",
              "      <th>1</th>\n",
              "      <td>Los Angeles</td>\n",
              "      <td>175851.34</td>\n",
              "    </tr>\n",
              "    <tr>\n",
              "      <th>2</th>\n",
              "      <td>Seattle</td>\n",
              "      <td>119540.74</td>\n",
              "    </tr>\n",
              "    <tr>\n",
              "      <th>3</th>\n",
              "      <td>San Francisco</td>\n",
              "      <td>112669.09</td>\n",
              "    </tr>\n",
              "    <tr>\n",
              "      <th>4</th>\n",
              "      <td>Philadelphia</td>\n",
              "      <td>109077.01</td>\n",
              "    </tr>\n",
              "    <tr>\n",
              "      <th>5</th>\n",
              "      <td>Houston</td>\n",
              "      <td>64504.76</td>\n",
              "    </tr>\n",
              "    <tr>\n",
              "      <th>6</th>\n",
              "      <td>Chicago</td>\n",
              "      <td>48539.54</td>\n",
              "    </tr>\n",
              "    <tr>\n",
              "      <th>7</th>\n",
              "      <td>San Diego</td>\n",
              "      <td>47521.03</td>\n",
              "    </tr>\n",
              "    <tr>\n",
              "      <th>8</th>\n",
              "      <td>Jacksonville</td>\n",
              "      <td>44713.18</td>\n",
              "    </tr>\n",
              "    <tr>\n",
              "      <th>9</th>\n",
              "      <td>Springfield</td>\n",
              "      <td>43054.34</td>\n",
              "    </tr>\n",
              "    <tr>\n",
              "      <th>10</th>\n",
              "      <td>Detroit</td>\n",
              "      <td>42446.94</td>\n",
              "    </tr>\n",
              "    <tr>\n",
              "      <th>11</th>\n",
              "      <td>Columbus</td>\n",
              "      <td>38706.24</td>\n",
              "    </tr>\n",
              "    <tr>\n",
              "      <th>12</th>\n",
              "      <td>Newark</td>\n",
              "      <td>28576.12</td>\n",
              "    </tr>\n",
              "    <tr>\n",
              "      <th>13</th>\n",
              "      <td>Columbia</td>\n",
              "      <td>25283.32</td>\n",
              "    </tr>\n",
              "    <tr>\n",
              "      <th>14</th>\n",
              "      <td>Lafayette</td>\n",
              "      <td>25036.20</td>\n",
              "    </tr>\n",
              "  </tbody>\n",
              "</table>\n",
              "</div>"
            ],
            "text/plain": [
              "             City      Sales\n",
              "0   New York City  256368.16\n",
              "1     Los Angeles  175851.34\n",
              "2         Seattle  119540.74\n",
              "3   San Francisco  112669.09\n",
              "4    Philadelphia  109077.01\n",
              "5         Houston   64504.76\n",
              "6         Chicago   48539.54\n",
              "7       San Diego   47521.03\n",
              "8    Jacksonville   44713.18\n",
              "9     Springfield   43054.34\n",
              "10        Detroit   42446.94\n",
              "11       Columbus   38706.24\n",
              "12         Newark   28576.12\n",
              "13       Columbia   25283.32\n",
              "14      Lafayette   25036.20"
            ]
          },
          "metadata": {
            "tags": []
          },
          "execution_count": 24
        }
      ]
    },
    {
      "cell_type": "code",
      "metadata": {
        "execution": {
          "iopub.execute_input": "2021-04-29T04:23:12.712404Z",
          "iopub.status.busy": "2021-04-29T04:23:12.691931Z",
          "iopub.status.idle": "2021-04-29T04:23:12.945351Z",
          "shell.execute_reply": "2021-04-29T04:23:12.944745Z"
        },
        "papermill": {
          "duration": 0.323063,
          "end_time": "2021-04-29T04:23:12.945523",
          "exception": false,
          "start_time": "2021-04-29T04:23:12.622460",
          "status": "completed"
        },
        "tags": [],
        "colab": {
          "base_uri": "https://localhost:8080/",
          "height": 431
        },
        "id": "arranged-reynolds",
        "outputId": "d5cc0bab-7d7c-4776-810f-d299ae73a7b2"
      },
      "source": [
        "plt.figure(figsize = (15,5)) \n",
        "\n",
        "plt.title(\"Top 15 Cities which generated Highest Revenue\", fontsize=18)\n",
        "\n",
        "plt.bar(city[\"City\"], city[\"Sales\"],color= '#89ff61',edgecolor='blue', linewidth = 1)\n",
        "\n",
        "plt.xlabel(\"Cities\",fontsize=15)  \n",
        "\n",
        "plt.ylabel(\"Revenue\",fontsize=15)\n",
        "\n",
        "plt.xticks(fontsize=12, rotation=90)\n",
        "\n",
        "plt.yticks(fontsize=12)\n",
        "\n",
        "plt.show()"
      ],
      "id": "arranged-reynolds",
      "execution_count": 25,
      "outputs": [
        {
          "output_type": "display_data",
          "data": {
            "image/png": "[encoded data removed]",
            "text/plain": [
              "<Figure size 1080x360 with 1 Axes>"
            ]
          },
          "metadata": {
            "tags": [],
            "needs_background": "light"
          }
        }
      ]
    },
    {
      "cell_type": "markdown",
      "metadata": {
        "papermill": {
          "duration": 0.067611,
          "end_time": "2021-04-29T04:23:13.081549",
          "exception": false,
          "start_time": "2021-04-29T04:23:13.013938",
          "status": "completed"
        },
        "tags": [],
        "id": "raised-darkness"
      },
      "source": [
        "### Sales Based on State"
      ],
      "id": "raised-darkness"
    },
    {
      "cell_type": "code",
      "metadata": {
        "execution": {
          "iopub.execute_input": "2021-04-29T04:23:13.228669Z",
          "iopub.status.busy": "2021-04-29T04:23:13.226607Z",
          "iopub.status.idle": "2021-04-29T04:23:13.245890Z",
          "shell.execute_reply": "2021-04-29T04:23:13.245346Z"
        },
        "papermill": {
          "duration": 0.096369,
          "end_time": "2021-04-29T04:23:13.246046",
          "exception": false,
          "start_time": "2021-04-29T04:23:13.149677",
          "status": "completed"
        },
        "tags": [],
        "colab": {
          "base_uri": "https://localhost:8080/",
          "height": 352
        },
        "id": "outdoor-rolling",
        "outputId": "30258915-bc34-4508-8229-aacb4ad0c42e"
      },
      "source": [
        "state = df.groupby(\"State\").sum().sort_values(\"Sales\", ascending = False).head(10)\n",
        "\n",
        "state = state[[\"Sales\"]].round(2)\n",
        "\n",
        "state.reset_index(inplace = True)\n",
        "\n",
        "state"
      ],
      "id": "outdoor-rolling",
      "execution_count": 36,
      "outputs": [
        {
          "output_type": "execute_result",
          "data": {
            "text/html": [
              "<div>\n",
              "<style scoped>\n",
              "    .dataframe tbody tr th:only-of-type {\n",
              "        vertical-align: middle;\n",
              "    }\n",
              "\n",
              "    .dataframe tbody tr th {\n",
              "        vertical-align: top;\n",
              "    }\n",
              "\n",
              "    .dataframe thead th {\n",
              "        text-align: right;\n",
              "    }\n",
              "</style>\n",
              "<table border=\"1\" class=\"dataframe\">\n",
              "  <thead>\n",
              "    <tr style=\"text-align: right;\">\n",
              "      <th></th>\n",
              "      <th>State</th>\n",
              "      <th>Sales</th>\n",
              "    </tr>\n",
              "  </thead>\n",
              "  <tbody>\n",
              "    <tr>\n",
              "      <th>0</th>\n",
              "      <td>California</td>\n",
              "      <td>457687.63</td>\n",
              "    </tr>\n",
              "    <tr>\n",
              "      <th>1</th>\n",
              "      <td>New York</td>\n",
              "      <td>310876.27</td>\n",
              "    </tr>\n",
              "    <tr>\n",
              "      <th>2</th>\n",
              "      <td>Texas</td>\n",
              "      <td>170188.05</td>\n",
              "    </tr>\n",
              "    <tr>\n",
              "      <th>3</th>\n",
              "      <td>Washington</td>\n",
              "      <td>138641.27</td>\n",
              "    </tr>\n",
              "    <tr>\n",
              "      <th>4</th>\n",
              "      <td>Pennsylvania</td>\n",
              "      <td>116511.91</td>\n",
              "    </tr>\n",
              "    <tr>\n",
              "      <th>5</th>\n",
              "      <td>Florida</td>\n",
              "      <td>89473.71</td>\n",
              "    </tr>\n",
              "    <tr>\n",
              "      <th>6</th>\n",
              "      <td>Illinois</td>\n",
              "      <td>80166.10</td>\n",
              "    </tr>\n",
              "    <tr>\n",
              "      <th>7</th>\n",
              "      <td>Ohio</td>\n",
              "      <td>78258.14</td>\n",
              "    </tr>\n",
              "    <tr>\n",
              "      <th>8</th>\n",
              "      <td>Michigan</td>\n",
              "      <td>76269.61</td>\n",
              "    </tr>\n",
              "    <tr>\n",
              "      <th>9</th>\n",
              "      <td>Virginia</td>\n",
              "      <td>70636.72</td>\n",
              "    </tr>\n",
              "  </tbody>\n",
              "</table>\n",
              "</div>"
            ],
            "text/plain": [
              "          State      Sales\n",
              "0    California  457687.63\n",
              "1      New York  310876.27\n",
              "2         Texas  170188.05\n",
              "3    Washington  138641.27\n",
              "4  Pennsylvania  116511.91\n",
              "5       Florida   89473.71\n",
              "6      Illinois   80166.10\n",
              "7          Ohio   78258.14\n",
              "8      Michigan   76269.61\n",
              "9      Virginia   70636.72"
            ]
          },
          "metadata": {
            "tags": []
          },
          "execution_count": 36
        }
      ]
    },
    {
      "cell_type": "code",
      "metadata": {
        "execution": {
          "iopub.execute_input": "2021-04-29T04:23:13.533625Z",
          "iopub.status.busy": "2021-04-29T04:23:13.517821Z",
          "iopub.status.idle": "2021-04-29T04:23:13.806787Z",
          "shell.execute_reply": "2021-04-29T04:23:13.807386Z"
        },
        "papermill": {
          "duration": 0.493299,
          "end_time": "2021-04-29T04:23:13.807619",
          "exception": false,
          "start_time": "2021-04-29T04:23:13.314320",
          "status": "completed"
        },
        "tags": [],
        "colab": {
          "base_uri": "https://localhost:8080/",
          "height": 519
        },
        "id": "center-longitude",
        "outputId": "6ef6f6d7-bb6d-4ccc-de73-495a0f1bfdbe"
      },
      "source": [
        "plt.figure(figsize = (15,5))\n",
        "\n",
        "plt.title(\"Top 10 States which generated Highest Revenue\", fontsize=18) \n",
        "\n",
        "sns.barplot(state[\"State\"], state[\"Sales\"],color= '#FF6F61',edgecolor='black', linewidth = 1)\n",
        "\n",
        "plt.xlabel(\"States\",fontsize=15) # x axis shows the States\n",
        "\n",
        "plt.ylabel(\"Revenue\",fontsize=15) # y axis shows the Revenue\n",
        "\n",
        "plt.xticks(fontsize=12, rotation=90)\n",
        "\n",
        "plt.yticks(fontsize=12)\n"
      ],
      "id": "center-longitude",
      "execution_count": 40,
      "outputs": [
        {
          "output_type": "stream",
          "text": [
            "/usr/local/lib/python3.7/dist-packages/seaborn/_decorators.py:43: FutureWarning: Pass the following variables as keyword args: x, y. From version 0.12, the only valid positional argument will be `data`, and passing other arguments without an explicit keyword will result in an error or misinterpretation.\n",
            "  FutureWarning\n"
          ],
          "name": "stderr"
        },
        {
          "output_type": "execute_result",
          "data": {
            "text/plain": [
              "(array([     0., 100000., 200000., 300000., 400000., 500000.]),\n",
              " <a list of 6 Text major ticklabel objects>)"
            ]
          },
          "metadata": {
            "tags": []
          },
          "execution_count": 40
        },
        {
          "output_type": "display_data",
          "data": {
            "image/png": "[encoded data removed]",
            "text/plain": [
              "<Figure size 1080x360 with 1 Axes>"
            ]
          },
          "metadata": {
            "tags": [],
            "needs_background": "light"
          }
        }
      ]
    },
    {
      "cell_type": "markdown",
      "metadata": {
        "papermill": {
          "duration": 0.06816,
          "end_time": "2021-04-29T04:23:13.944620",
          "exception": false,
          "start_time": "2021-04-29T04:23:13.876460",
          "status": "completed"
        },
        "tags": [],
        "id": "published-section"
      },
      "source": [
        "### Sales based on Region"
      ],
      "id": "published-section"
    },
    {
      "cell_type": "code",
      "metadata": {
        "execution": {
          "iopub.execute_input": "2021-04-29T04:23:14.089296Z",
          "iopub.status.busy": "2021-04-29T04:23:14.088607Z",
          "iopub.status.idle": "2021-04-29T04:23:14.108395Z",
          "shell.execute_reply": "2021-04-29T04:23:14.108889Z"
        },
        "papermill": {
          "duration": 0.095687,
          "end_time": "2021-04-29T04:23:14.109070",
          "exception": false,
          "start_time": "2021-04-29T04:23:14.013383",
          "status": "completed"
        },
        "tags": [],
        "colab": {
          "base_uri": "https://localhost:8080/",
          "height": 170
        },
        "id": "after-mobility",
        "outputId": "b794eefd-d2fe-4415-f3c9-2d7a48631588"
      },
      "source": [
        "region = df.groupby(\"Region\").sum()\n",
        "\n",
        "region = region[[\"Sales\"]].round(2)\n",
        "\n",
        "region.reset_index(inplace = True)\n",
        "\n",
        "region"
      ],
      "id": "after-mobility",
      "execution_count": 28,
      "outputs": [
        {
          "output_type": "execute_result",
          "data": {
            "text/html": [
              "<div>\n",
              "<style scoped>\n",
              "    .dataframe tbody tr th:only-of-type {\n",
              "        vertical-align: middle;\n",
              "    }\n",
              "\n",
              "    .dataframe tbody tr th {\n",
              "        vertical-align: top;\n",
              "    }\n",
              "\n",
              "    .dataframe thead th {\n",
              "        text-align: right;\n",
              "    }\n",
              "</style>\n",
              "<table border=\"1\" class=\"dataframe\">\n",
              "  <thead>\n",
              "    <tr style=\"text-align: right;\">\n",
              "      <th></th>\n",
              "      <th>Region</th>\n",
              "      <th>Sales</th>\n",
              "    </tr>\n",
              "  </thead>\n",
              "  <tbody>\n",
              "    <tr>\n",
              "      <th>0</th>\n",
              "      <td>Central</td>\n",
              "      <td>501239.89</td>\n",
              "    </tr>\n",
              "    <tr>\n",
              "      <th>1</th>\n",
              "      <td>East</td>\n",
              "      <td>678781.24</td>\n",
              "    </tr>\n",
              "    <tr>\n",
              "      <th>2</th>\n",
              "      <td>South</td>\n",
              "      <td>391721.91</td>\n",
              "    </tr>\n",
              "    <tr>\n",
              "      <th>3</th>\n",
              "      <td>West</td>\n",
              "      <td>725457.82</td>\n",
              "    </tr>\n",
              "  </tbody>\n",
              "</table>\n",
              "</div>"
            ],
            "text/plain": [
              "    Region      Sales\n",
              "0  Central  501239.89\n",
              "1     East  678781.24\n",
              "2    South  391721.91\n",
              "3     West  725457.82"
            ]
          },
          "metadata": {
            "tags": []
          },
          "execution_count": 28
        }
      ]
    },
    {
      "cell_type": "code",
      "metadata": {
        "execution": {
          "iopub.execute_input": "2021-04-29T04:23:14.254974Z",
          "iopub.status.busy": "2021-04-29T04:23:14.254266Z",
          "iopub.status.idle": "2021-04-29T04:23:14.419544Z",
          "shell.execute_reply": "2021-04-29T04:23:14.418976Z"
        },
        "papermill": {
          "duration": 0.239478,
          "end_time": "2021-04-29T04:23:14.419719",
          "exception": false,
          "start_time": "2021-04-29T04:23:14.180241",
          "status": "completed"
        },
        "tags": [],
        "colab": {
          "base_uri": "https://localhost:8080/",
          "height": 429
        },
        "id": "pursuant-boring",
        "outputId": "d47426b8-df05-46c6-be63-d85a6a824f20"
      },
      "source": [
        "plt.figure(figsize = (10,5)) \n",
        "\n",
        "plt.title(\"Region-wise Revenue Generation\", fontsize=18)\n",
        "\n",
        "sns.barplot(x='Region',y='Sales',data=df,hue='Segment',order=df['Region'].value_counts().index,palette='rocket')\n",
        "\n",
        "plt.xlabel(\"Region\",fontsize=15) \n",
        "\n",
        "plt.ylabel(\"Revenue\",fontsize=15) \n",
        "\n",
        "plt.xticks(fontsize=12, rotation=90)\n",
        "\n",
        "plt.yticks(fontsize=12)\n"
      ],
      "id": "pursuant-boring",
      "execution_count": 39,
      "outputs": [
        {
          "output_type": "execute_result",
          "data": {
            "text/plain": [
              "(array([  0., 100., 200., 300., 400., 500.]),\n",
              " <a list of 6 Text major ticklabel objects>)"
            ]
          },
          "metadata": {
            "tags": []
          },
          "execution_count": 39
        },
        {
          "output_type": "display_data",
          "data": {
            "image/png": "[encoded data removed]",
            "text/plain": [
              "<Figure size 720x360 with 1 Axes>"
            ]
          },
          "metadata": {
            "tags": [],
            "needs_background": "light"
          }
        }
      ]
    },
    {
      "cell_type": "markdown",
      "metadata": {
        "papermill": {
          "duration": 0.072224,
          "end_time": "2021-04-29T04:23:14.564690",
          "exception": false,
          "start_time": "2021-04-29T04:23:14.492466",
          "status": "completed"
        },
        "tags": [],
        "id": "moving-consciousness"
      },
      "source": [
        "### Sales based on Ship mode"
      ],
      "id": "moving-consciousness"
    },
    {
      "cell_type": "code",
      "metadata": {
        "execution": {
          "iopub.execute_input": "2021-04-29T04:23:14.718338Z",
          "iopub.status.busy": "2021-04-29T04:23:14.717281Z",
          "iopub.status.idle": "2021-04-29T04:23:14.730626Z",
          "shell.execute_reply": "2021-04-29T04:23:14.731096Z"
        },
        "papermill": {
          "duration": 0.094852,
          "end_time": "2021-04-29T04:23:14.731316",
          "exception": false,
          "start_time": "2021-04-29T04:23:14.636464",
          "status": "completed"
        },
        "tags": [],
        "colab": {
          "base_uri": "https://localhost:8080/",
          "height": 170
        },
        "id": "liberal-aberdeen",
        "outputId": "3aa0e67d-6303-460b-b4ee-7761de4584e7"
      },
      "source": [
        "shipmode = df.groupby(\"Ship Mode\").sum()\n",
        "\n",
        "shipmode = shipmode[[\"Sales\"]]\n",
        "\n",
        "shipmode.reset_index(inplace = True)\n",
        "\n",
        "shipmode"
      ],
      "id": "liberal-aberdeen",
      "execution_count": 41,
      "outputs": [
        {
          "output_type": "execute_result",
          "data": {
            "text/html": [
              "<div>\n",
              "<style scoped>\n",
              "    .dataframe tbody tr th:only-of-type {\n",
              "        vertical-align: middle;\n",
              "    }\n",
              "\n",
              "    .dataframe tbody tr th {\n",
              "        vertical-align: top;\n",
              "    }\n",
              "\n",
              "    .dataframe thead th {\n",
              "        text-align: right;\n",
              "    }\n",
              "</style>\n",
              "<table border=\"1\" class=\"dataframe\">\n",
              "  <thead>\n",
              "    <tr style=\"text-align: right;\">\n",
              "      <th></th>\n",
              "      <th>Ship Mode</th>\n",
              "      <th>Sales</th>\n",
              "    </tr>\n",
              "  </thead>\n",
              "  <tbody>\n",
              "    <tr>\n",
              "      <th>0</th>\n",
              "      <td>First Class</td>\n",
              "      <td>3.514284e+05</td>\n",
              "    </tr>\n",
              "    <tr>\n",
              "      <th>1</th>\n",
              "      <td>Same Day</td>\n",
              "      <td>1.283631e+05</td>\n",
              "    </tr>\n",
              "    <tr>\n",
              "      <th>2</th>\n",
              "      <td>Second Class</td>\n",
              "      <td>4.591936e+05</td>\n",
              "    </tr>\n",
              "    <tr>\n",
              "      <th>3</th>\n",
              "      <td>Standard Class</td>\n",
              "      <td>1.358216e+06</td>\n",
              "    </tr>\n",
              "  </tbody>\n",
              "</table>\n",
              "</div>"
            ],
            "text/plain": [
              "        Ship Mode         Sales\n",
              "0     First Class  3.514284e+05\n",
              "1        Same Day  1.283631e+05\n",
              "2    Second Class  4.591936e+05\n",
              "3  Standard Class  1.358216e+06"
            ]
          },
          "metadata": {
            "tags": []
          },
          "execution_count": 41
        }
      ]
    },
    {
      "cell_type": "code",
      "metadata": {
        "execution": {
          "iopub.execute_input": "2021-04-29T04:23:14.880292Z",
          "iopub.status.busy": "2021-04-29T04:23:14.879641Z",
          "iopub.status.idle": "2021-04-29T04:23:15.068942Z",
          "shell.execute_reply": "2021-04-29T04:23:15.069931Z"
        },
        "papermill": {
          "duration": 0.265262,
          "end_time": "2021-04-29T04:23:15.070216",
          "exception": false,
          "start_time": "2021-04-29T04:23:14.804954",
          "status": "completed"
        },
        "tags": [],
        "colab": {
          "base_uri": "https://localhost:8080/",
          "height": 389
        },
        "id": "pretty-firewall",
        "outputId": "3c41751d-3fa6-4e82-b629-df7d0265fccb"
      },
      "source": [
        "center = [6]\n",
        "plt.figure(figsize = (6,6))\n",
        "\n",
        "plt.pie(shipmode['Sales'], labels = shipmode['Ship Mode'],colors = ['#1E90FF','#00BFFF','#87CEEB',\"mediumblue\"], \n",
        "        radius = 2, autopct= make_autopct(shipmode[\"Sales\"]))\n",
        "\n",
        "plt.pie(center, radius = 1.7, colors = \"w\")\n",
        "\n",
        "plt.title(\"The sales based on the Ship Mode\", pad = 100, size = 25, color = \"darkblue\")\n",
        "\n",
        "plt.tight_layout()\n",
        "plt.show()"
      ],
      "id": "pretty-firewall",
      "execution_count": 42,
      "outputs": [
        {
          "output_type": "display_data",
          "data": {
            "image/png": "[encoded data removed]",
            "text/plain": [
              "<Figure size 432x432 with 1 Axes>"
            ]
          },
          "metadata": {
            "tags": []
          }
        }
      ]
    },
    {
      "cell_type": "markdown",
      "metadata": {
        "papermill": {
          "duration": 0.08442,
          "end_time": "2021-04-29T04:23:15.248072",
          "exception": false,
          "start_time": "2021-04-29T04:23:15.163652",
          "status": "completed"
        },
        "tags": [],
        "id": "brutal-inspector"
      },
      "source": [
        "### Sales based on Categories"
      ],
      "id": "brutal-inspector"
    },
    {
      "cell_type": "code",
      "metadata": {
        "execution": {
          "iopub.execute_input": "2021-04-29T04:23:15.401036Z",
          "iopub.status.busy": "2021-04-29T04:23:15.400051Z",
          "iopub.status.idle": "2021-04-29T04:23:15.422324Z",
          "shell.execute_reply": "2021-04-29T04:23:15.422835Z"
        },
        "papermill": {
          "duration": 0.10023,
          "end_time": "2021-04-29T04:23:15.423035",
          "exception": false,
          "start_time": "2021-04-29T04:23:15.322805",
          "status": "completed"
        },
        "tags": [],
        "colab": {
          "base_uri": "https://localhost:8080/",
          "height": 139
        },
        "id": "bigger-literacy",
        "outputId": "e1b83966-9b4f-453a-c188-69d107890714"
      },
      "source": [
        "category = df.groupby([\"Category\"]).sum().sort_values(\"Sales\", ascending=False) \n",
        "\n",
        "category = category[[\"Sales\"]]\n",
        "\n",
        "total_revenue_category = category[\"Sales\"].sum()\n",
        "\n",
        "total_revenue_category = str(int(total_revenue_category))\n",
        "\n",
        "total_revenue_category = '$' + total_revenue_category\n",
        "\n",
        "category.reset_index(inplace=True)\n",
        "\n",
        "category"
      ],
      "id": "bigger-literacy",
      "execution_count": 43,
      "outputs": [
        {
          "output_type": "execute_result",
          "data": {
            "text/html": [
              "<div>\n",
              "<style scoped>\n",
              "    .dataframe tbody tr th:only-of-type {\n",
              "        vertical-align: middle;\n",
              "    }\n",
              "\n",
              "    .dataframe tbody tr th {\n",
              "        vertical-align: top;\n",
              "    }\n",
              "\n",
              "    .dataframe thead th {\n",
              "        text-align: right;\n",
              "    }\n",
              "</style>\n",
              "<table border=\"1\" class=\"dataframe\">\n",
              "  <thead>\n",
              "    <tr style=\"text-align: right;\">\n",
              "      <th></th>\n",
              "      <th>Category</th>\n",
              "      <th>Sales</th>\n",
              "    </tr>\n",
              "  </thead>\n",
              "  <tbody>\n",
              "    <tr>\n",
              "      <th>0</th>\n",
              "      <td>Technology</td>\n",
              "      <td>836154.0330</td>\n",
              "    </tr>\n",
              "    <tr>\n",
              "      <th>1</th>\n",
              "      <td>Furniture</td>\n",
              "      <td>741999.7953</td>\n",
              "    </tr>\n",
              "    <tr>\n",
              "      <th>2</th>\n",
              "      <td>Office Supplies</td>\n",
              "      <td>719047.0320</td>\n",
              "    </tr>\n",
              "  </tbody>\n",
              "</table>\n",
              "</div>"
            ],
            "text/plain": [
              "          Category        Sales\n",
              "0       Technology  836154.0330\n",
              "1        Furniture  741999.7953\n",
              "2  Office Supplies  719047.0320"
            ]
          },
          "metadata": {
            "tags": []
          },
          "execution_count": 43
        }
      ]
    },
    {
      "cell_type": "code",
      "metadata": {
        "execution": {
          "iopub.execute_input": "2021-04-29T04:23:15.575074Z",
          "iopub.status.busy": "2021-04-29T04:23:15.574331Z",
          "iopub.status.idle": "2021-04-29T04:23:15.775944Z",
          "shell.execute_reply": "2021-04-29T04:23:15.776452Z"
        },
        "papermill": {
          "duration": 0.279338,
          "end_time": "2021-04-29T04:23:15.776667",
          "exception": false,
          "start_time": "2021-04-29T04:23:15.497329",
          "status": "completed"
        },
        "tags": [],
        "colab": {
          "base_uri": "https://localhost:8080/",
          "height": 293
        },
        "id": "vietnamese-computer",
        "outputId": "1486e3f5-2001-40c5-e2b4-fdca12acc678"
      },
      "source": [
        "center = [6]\n",
        "plt.pie(category['Sales'], labels = category['Category'],colors =  [\"indianred\",\"lightcoral\", \"darkred\"], \n",
        "        radius = 1.5, autopct = make_autopct(category[\"Sales\"]))\n",
        "\n",
        "plt.pie(center, radius = 1.3, colors = \"w\")\n",
        "\n",
        "plt.annotate('Total Revenue \\n'+str(total_revenue_category),color = \"purple\", xy=(0, 0), fontsize=12, ha=\"center\")\n",
        "\n",
        "plt.title(\"The sales based on the Categories\", pad = 50, size = 25, color = \"darkred\")\n",
        "\n",
        "plt.tight_layout()\n",
        "plt.show()"
      ],
      "id": "vietnamese-computer",
      "execution_count": 44,
      "outputs": [
        {
          "output_type": "display_data",
          "data": {
            "image/png": "[encoded data removed]",
            "text/plain": [
              "<Figure size 432x288 with 1 Axes>"
            ]
          },
          "metadata": {
            "tags": []
          }
        }
      ]
    },
    {
      "cell_type": "markdown",
      "metadata": {
        "papermill": {
          "duration": 0.075388,
          "end_time": "2021-04-29T04:23:15.930026",
          "exception": false,
          "start_time": "2021-04-29T04:23:15.854638",
          "status": "completed"
        },
        "tags": [],
        "id": "comprehensive-pathology"
      },
      "source": [
        "### Sales based on Sub-Categories"
      ],
      "id": "comprehensive-pathology"
    },
    {
      "cell_type": "code",
      "metadata": {
        "execution": {
          "iopub.execute_input": "2021-04-29T04:23:16.092883Z",
          "iopub.status.busy": "2021-04-29T04:23:16.092171Z",
          "iopub.status.idle": "2021-04-29T04:23:16.107724Z",
          "shell.execute_reply": "2021-04-29T04:23:16.107056Z"
        },
        "papermill": {
          "duration": 0.10222,
          "end_time": "2021-04-29T04:23:16.107877",
          "exception": false,
          "start_time": "2021-04-29T04:23:16.005657",
          "status": "completed"
        },
        "tags": [],
        "colab": {
          "base_uri": "https://localhost:8080/",
          "height": 200
        },
        "id": "horizontal-marine",
        "outputId": "d4208611-2fa1-4a92-f672-f942b3a55bc9"
      },
      "source": [
        "subca = df.groupby(\"Sub-Category\").sum().sort_values(\"Sales\" , ascending = False).head()\n",
        "\n",
        "subca = subca[[\"Sales\"]].round(2)\n",
        "\n",
        "subca.reset_index(inplace = True)\n",
        "\n",
        "subca"
      ],
      "id": "horizontal-marine",
      "execution_count": 46,
      "outputs": [
        {
          "output_type": "execute_result",
          "data": {
            "text/html": [
              "<div>\n",
              "<style scoped>\n",
              "    .dataframe tbody tr th:only-of-type {\n",
              "        vertical-align: middle;\n",
              "    }\n",
              "\n",
              "    .dataframe tbody tr th {\n",
              "        vertical-align: top;\n",
              "    }\n",
              "\n",
              "    .dataframe thead th {\n",
              "        text-align: right;\n",
              "    }\n",
              "</style>\n",
              "<table border=\"1\" class=\"dataframe\">\n",
              "  <thead>\n",
              "    <tr style=\"text-align: right;\">\n",
              "      <th></th>\n",
              "      <th>Sub-Category</th>\n",
              "      <th>Sales</th>\n",
              "    </tr>\n",
              "  </thead>\n",
              "  <tbody>\n",
              "    <tr>\n",
              "      <th>0</th>\n",
              "      <td>Phones</td>\n",
              "      <td>330007.05</td>\n",
              "    </tr>\n",
              "    <tr>\n",
              "      <th>1</th>\n",
              "      <td>Chairs</td>\n",
              "      <td>328449.10</td>\n",
              "    </tr>\n",
              "    <tr>\n",
              "      <th>2</th>\n",
              "      <td>Storage</td>\n",
              "      <td>223843.61</td>\n",
              "    </tr>\n",
              "    <tr>\n",
              "      <th>3</th>\n",
              "      <td>Tables</td>\n",
              "      <td>206965.53</td>\n",
              "    </tr>\n",
              "    <tr>\n",
              "      <th>4</th>\n",
              "      <td>Binders</td>\n",
              "      <td>203412.73</td>\n",
              "    </tr>\n",
              "  </tbody>\n",
              "</table>\n",
              "</div>"
            ],
            "text/plain": [
              "  Sub-Category      Sales\n",
              "0       Phones  330007.05\n",
              "1       Chairs  328449.10\n",
              "2      Storage  223843.61\n",
              "3       Tables  206965.53\n",
              "4      Binders  203412.73"
            ]
          },
          "metadata": {
            "tags": []
          },
          "execution_count": 46
        }
      ]
    },
    {
      "cell_type": "code",
      "metadata": {
        "execution": {
          "iopub.execute_input": "2021-04-29T04:23:16.290039Z",
          "iopub.status.busy": "2021-04-29T04:23:16.285228Z",
          "iopub.status.idle": "2021-04-29T04:23:16.449344Z",
          "shell.execute_reply": "2021-04-29T04:23:16.448647Z"
        },
        "papermill": {
          "duration": 0.265442,
          "end_time": "2021-04-29T04:23:16.449508",
          "exception": false,
          "start_time": "2021-04-29T04:23:16.184066",
          "status": "completed"
        },
        "tags": [],
        "colab": {
          "base_uri": "https://localhost:8080/",
          "height": 396
        },
        "id": "athletic-legend",
        "outputId": "5f95e798-a860-44a0-b7cb-1dc216650dc6"
      },
      "source": [
        "plt.figure(figsize = (10,5)) \n",
        "\n",
        "plt.title(\"Top 5 Sub Categories Based on Revenue\", fontsize=18)\n",
        "\n",
        "plt.bar(subca[\"Sub-Category\"], subca[\"Sales\"],color= '#61ffe7',edgecolor='Red', linewidth = 1)\n",
        "\n",
        "plt.xlabel(\"Sub - Category\",fontsize=15) \n",
        "\n",
        "plt.ylabel(\"Revenue\",fontsize=15) \n",
        "\n",
        "plt.xticks(fontsize=12, rotation=90)\n",
        "\n",
        "plt.yticks(fontsize=12)\n",
        "\n",
        "for a,s in subca[\"Sales\"].items(): \n",
        "        plt.text(a,s-30000,'$'+ str(v), fontsize=12,color='k', horizontalalignment='center');"
      ],
      "id": "athletic-legend",
      "execution_count": 47,
      "outputs": [
        {
          "output_type": "display_data",
          "data": {
            "image/png": "[encoded data removed]",
            "text/plain": [
              "<Figure size 720x360 with 1 Axes>"
            ]
          },
          "metadata": {
            "tags": [],
            "needs_background": "light"
          }
        }
      ]
    },
    {
      "cell_type": "markdown",
      "metadata": {
        "papermill": {
          "duration": 0.080738,
          "end_time": "2021-04-29T04:23:17.569725",
          "exception": false,
          "start_time": "2021-04-29T04:23:17.488987",
          "status": "completed"
        },
        "tags": [],
        "id": "incredible-startup"
      },
      "source": [
        "### Choropleth Map"
      ],
      "id": "incredible-startup"
    },
    {
      "cell_type": "code",
      "metadata": {
        "execution": {
          "iopub.execute_input": "2021-04-29T04:23:17.735890Z",
          "iopub.status.busy": "2021-04-29T04:23:17.735161Z",
          "iopub.status.idle": "2021-04-29T04:23:17.742923Z",
          "shell.execute_reply": "2021-04-29T04:23:17.743428Z"
        },
        "papermill": {
          "duration": 0.092838,
          "end_time": "2021-04-29T04:23:17.743637",
          "exception": false,
          "start_time": "2021-04-29T04:23:17.650799",
          "status": "completed"
        },
        "tags": [],
        "id": "apparent-savings"
      },
      "source": [
        "state = ['Alabama', 'Arizona' ,'Arkansas', 'California', 'Colorado', 'Connecticut', 'Delaware', 'Florida', \n",
        "         'Georgia', 'Hawaii', 'Idaho', 'Illinois', 'Indiana', 'Iowa', 'Kansas', 'Kentucky', 'Louisiana', 'Maine', 'Maryland',\n",
        "         'Massachusetts', 'Michigan', 'Minnesota', 'Mississippi', 'Missouri', 'Montana','Nebraska', 'Nevada', 'New Hampshire',\n",
        "         'New Jersey', 'New Mexico', 'New York', 'North Carolina', 'North Dakota', 'Ohio', 'Oklahoma', 'Oregon', 'Pennsylvania',\n",
        "         'Rhode Island', 'South Carolina', 'South Dakota', 'Tennessee', 'Texas', 'Utah', 'Vermont', 'Virginia', 'Washington',\n",
        "         'West Virginia', 'Wisconsin','Wyoming']\n",
        "state_code = ['AL','AZ','AR','CA','CO','CT','DE','FL','GA','HI','ID','IL','IN','IA','KS','KY','LA','ME','MD','MA',\n",
        "              'MI','MN','MS','MO','MT','NE','NV','NH','NJ','NM','NY','NC','ND','OH','OK','OR','PA','RI','SC','SD','TN',\n",
        "              'TX','UT','VT','VA','WA','WV','WI','WY']"
      ],
      "id": "apparent-savings",
      "execution_count": 49,
      "outputs": []
    },
    {
      "cell_type": "code",
      "metadata": {
        "execution": {
          "iopub.execute_input": "2021-04-29T04:23:17.913619Z",
          "iopub.status.busy": "2021-04-29T04:23:17.912894Z",
          "iopub.status.idle": "2021-04-29T04:23:17.924043Z",
          "shell.execute_reply": "2021-04-29T04:23:17.924586Z"
        },
        "papermill": {
          "duration": 0.098165,
          "end_time": "2021-04-29T04:23:17.924790",
          "exception": false,
          "start_time": "2021-04-29T04:23:17.826625",
          "status": "completed"
        },
        "tags": [],
        "colab": {
          "base_uri": "https://localhost:8080/",
          "height": 200
        },
        "id": "talented-printer",
        "outputId": "b40d029e-c4cb-4674-afb1-985558987940"
      },
      "source": [
        "state = pd.DataFrame(state, state_code) \n",
        "\n",
        "state.reset_index(inplace=True)\n",
        "\n",
        "state.columns = ['State Code','State']\n",
        "\n",
        "state.head()"
      ],
      "id": "talented-printer",
      "execution_count": 50,
      "outputs": [
        {
          "output_type": "execute_result",
          "data": {
            "text/html": [
              "<div>\n",
              "<style scoped>\n",
              "    .dataframe tbody tr th:only-of-type {\n",
              "        vertical-align: middle;\n",
              "    }\n",
              "\n",
              "    .dataframe tbody tr th {\n",
              "        vertical-align: top;\n",
              "    }\n",
              "\n",
              "    .dataframe thead th {\n",
              "        text-align: right;\n",
              "    }\n",
              "</style>\n",
              "<table border=\"1\" class=\"dataframe\">\n",
              "  <thead>\n",
              "    <tr style=\"text-align: right;\">\n",
              "      <th></th>\n",
              "      <th>State Code</th>\n",
              "      <th>State</th>\n",
              "    </tr>\n",
              "  </thead>\n",
              "  <tbody>\n",
              "    <tr>\n",
              "      <th>0</th>\n",
              "      <td>AL</td>\n",
              "      <td>Alabama</td>\n",
              "    </tr>\n",
              "    <tr>\n",
              "      <th>1</th>\n",
              "      <td>AZ</td>\n",
              "      <td>Arizona</td>\n",
              "    </tr>\n",
              "    <tr>\n",
              "      <th>2</th>\n",
              "      <td>AR</td>\n",
              "      <td>Arkansas</td>\n",
              "    </tr>\n",
              "    <tr>\n",
              "      <th>3</th>\n",
              "      <td>CA</td>\n",
              "      <td>California</td>\n",
              "    </tr>\n",
              "    <tr>\n",
              "      <th>4</th>\n",
              "      <td>CO</td>\n",
              "      <td>Colorado</td>\n",
              "    </tr>\n",
              "  </tbody>\n",
              "</table>\n",
              "</div>"
            ],
            "text/plain": [
              "  State Code       State\n",
              "0         AL     Alabama\n",
              "1         AZ     Arizona\n",
              "2         AR    Arkansas\n",
              "3         CA  California\n",
              "4         CO    Colorado"
            ]
          },
          "metadata": {
            "tags": []
          },
          "execution_count": 50
        }
      ]
    },
    {
      "cell_type": "code",
      "metadata": {
        "execution": {
          "iopub.execute_input": "2021-04-29T04:23:18.097048Z",
          "iopub.status.busy": "2021-04-29T04:23:18.096275Z",
          "iopub.status.idle": "2021-04-29T04:23:18.116014Z",
          "shell.execute_reply": "2021-04-29T04:23:18.115446Z"
        },
        "papermill": {
          "duration": 0.108607,
          "end_time": "2021-04-29T04:23:18.116173",
          "exception": false,
          "start_time": "2021-04-29T04:23:18.007566",
          "status": "completed"
        },
        "tags": [],
        "colab": {
          "base_uri": "https://localhost:8080/",
          "height": 352
        },
        "id": "valid-generator",
        "outputId": "268249ee-5ec4-48df-9f7d-946065c5ba2f"
      },
      "source": [
        "sales = df.groupby([\"State\"]).sum().sort_values(\"Sales\", ascending=False)\n",
        "\n",
        "sales.reset_index(inplace=True) \n",
        "\n",
        "\n",
        "\n",
        "sales.head(10)"
      ],
      "id": "valid-generator",
      "execution_count": 52,
      "outputs": [
        {
          "output_type": "execute_result",
          "data": {
            "text/html": [
              "<div>\n",
              "<style scoped>\n",
              "    .dataframe tbody tr th:only-of-type {\n",
              "        vertical-align: middle;\n",
              "    }\n",
              "\n",
              "    .dataframe tbody tr th {\n",
              "        vertical-align: top;\n",
              "    }\n",
              "\n",
              "    .dataframe thead th {\n",
              "        text-align: right;\n",
              "    }\n",
              "</style>\n",
              "<table border=\"1\" class=\"dataframe\">\n",
              "  <thead>\n",
              "    <tr style=\"text-align: right;\">\n",
              "      <th></th>\n",
              "      <th>State</th>\n",
              "      <th>Sales</th>\n",
              "      <th>Quantity</th>\n",
              "      <th>Discount</th>\n",
              "      <th>Profit</th>\n",
              "    </tr>\n",
              "  </thead>\n",
              "  <tbody>\n",
              "    <tr>\n",
              "      <th>0</th>\n",
              "      <td>California</td>\n",
              "      <td>457687.6315</td>\n",
              "      <td>7667</td>\n",
              "      <td>145.60</td>\n",
              "      <td>76381.3871</td>\n",
              "    </tr>\n",
              "    <tr>\n",
              "      <th>1</th>\n",
              "      <td>New York</td>\n",
              "      <td>310876.2710</td>\n",
              "      <td>4224</td>\n",
              "      <td>62.40</td>\n",
              "      <td>74038.5486</td>\n",
              "    </tr>\n",
              "    <tr>\n",
              "      <th>2</th>\n",
              "      <td>Texas</td>\n",
              "      <td>170188.0458</td>\n",
              "      <td>3724</td>\n",
              "      <td>364.64</td>\n",
              "      <td>-25729.3563</td>\n",
              "    </tr>\n",
              "    <tr>\n",
              "      <th>3</th>\n",
              "      <td>Washington</td>\n",
              "      <td>138641.2700</td>\n",
              "      <td>1883</td>\n",
              "      <td>32.40</td>\n",
              "      <td>33402.6517</td>\n",
              "    </tr>\n",
              "    <tr>\n",
              "      <th>4</th>\n",
              "      <td>Pennsylvania</td>\n",
              "      <td>116511.9140</td>\n",
              "      <td>2153</td>\n",
              "      <td>192.90</td>\n",
              "      <td>-15559.9603</td>\n",
              "    </tr>\n",
              "    <tr>\n",
              "      <th>5</th>\n",
              "      <td>Florida</td>\n",
              "      <td>89473.7080</td>\n",
              "      <td>1379</td>\n",
              "      <td>114.65</td>\n",
              "      <td>-3399.3017</td>\n",
              "    </tr>\n",
              "    <tr>\n",
              "      <th>6</th>\n",
              "      <td>Illinois</td>\n",
              "      <td>80166.1010</td>\n",
              "      <td>1845</td>\n",
              "      <td>191.90</td>\n",
              "      <td>-12607.8870</td>\n",
              "    </tr>\n",
              "    <tr>\n",
              "      <th>7</th>\n",
              "      <td>Ohio</td>\n",
              "      <td>78258.1360</td>\n",
              "      <td>1759</td>\n",
              "      <td>152.40</td>\n",
              "      <td>-16971.3766</td>\n",
              "    </tr>\n",
              "    <tr>\n",
              "      <th>8</th>\n",
              "      <td>Michigan</td>\n",
              "      <td>76269.6140</td>\n",
              "      <td>946</td>\n",
              "      <td>1.80</td>\n",
              "      <td>24463.1876</td>\n",
              "    </tr>\n",
              "    <tr>\n",
              "      <th>9</th>\n",
              "      <td>Virginia</td>\n",
              "      <td>70636.7200</td>\n",
              "      <td>893</td>\n",
              "      <td>0.00</td>\n",
              "      <td>18597.9504</td>\n",
              "    </tr>\n",
              "  </tbody>\n",
              "</table>\n",
              "</div>"
            ],
            "text/plain": [
              "          State        Sales  Quantity  Discount      Profit\n",
              "0    California  457687.6315      7667    145.60  76381.3871\n",
              "1      New York  310876.2710      4224     62.40  74038.5486\n",
              "2         Texas  170188.0458      3724    364.64 -25729.3563\n",
              "3    Washington  138641.2700      1883     32.40  33402.6517\n",
              "4  Pennsylvania  116511.9140      2153    192.90 -15559.9603\n",
              "5       Florida   89473.7080      1379    114.65  -3399.3017\n",
              "6      Illinois   80166.1010      1845    191.90 -12607.8870\n",
              "7          Ohio   78258.1360      1759    152.40 -16971.3766\n",
              "8      Michigan   76269.6140       946      1.80  24463.1876\n",
              "9      Virginia   70636.7200       893      0.00  18597.9504"
            ]
          },
          "metadata": {
            "tags": []
          },
          "execution_count": 52
        }
      ]
    },
    {
      "cell_type": "code",
      "metadata": {
        "execution": {
          "iopub.execute_input": "2021-04-29T04:23:18.286404Z",
          "iopub.status.busy": "2021-04-29T04:23:18.285658Z",
          "iopub.status.idle": "2021-04-29T04:23:18.299426Z",
          "shell.execute_reply": "2021-04-29T04:23:18.298746Z"
        },
        "papermill": {
          "duration": 0.100611,
          "end_time": "2021-04-29T04:23:18.299578",
          "exception": false,
          "start_time": "2021-04-29T04:23:18.198967",
          "status": "completed"
        },
        "tags": [],
        "colab": {
          "base_uri": "https://localhost:8080/",
          "height": 200
        },
        "id": "needed-appeal",
        "outputId": "2dfa3b16-69cd-4448-96cd-7de4dbc14bad"
      },
      "source": [
        "sales= sales.sort_values('State', ascending=True)\n",
        "\n",
        "sales.reset_index(inplace = True)\n",
        "\n",
        "sales.head()"
      ],
      "id": "needed-appeal",
      "execution_count": 53,
      "outputs": [
        {
          "output_type": "execute_result",
          "data": {
            "text/html": [
              "<div>\n",
              "<style scoped>\n",
              "    .dataframe tbody tr th:only-of-type {\n",
              "        vertical-align: middle;\n",
              "    }\n",
              "\n",
              "    .dataframe tbody tr th {\n",
              "        vertical-align: top;\n",
              "    }\n",
              "\n",
              "    .dataframe thead th {\n",
              "        text-align: right;\n",
              "    }\n",
              "</style>\n",
              "<table border=\"1\" class=\"dataframe\">\n",
              "  <thead>\n",
              "    <tr style=\"text-align: right;\">\n",
              "      <th></th>\n",
              "      <th>index</th>\n",
              "      <th>State</th>\n",
              "      <th>Sales</th>\n",
              "      <th>Quantity</th>\n",
              "      <th>Discount</th>\n",
              "      <th>Profit</th>\n",
              "    </tr>\n",
              "  </thead>\n",
              "  <tbody>\n",
              "    <tr>\n",
              "      <th>0</th>\n",
              "      <td>26</td>\n",
              "      <td>Alabama</td>\n",
              "      <td>19510.6400</td>\n",
              "      <td>256</td>\n",
              "      <td>0.0</td>\n",
              "      <td>5786.8253</td>\n",
              "    </tr>\n",
              "    <tr>\n",
              "      <th>1</th>\n",
              "      <td>15</td>\n",
              "      <td>Arizona</td>\n",
              "      <td>35282.0010</td>\n",
              "      <td>862</td>\n",
              "      <td>68.0</td>\n",
              "      <td>-3427.9246</td>\n",
              "    </tr>\n",
              "    <tr>\n",
              "      <th>2</th>\n",
              "      <td>30</td>\n",
              "      <td>Arkansas</td>\n",
              "      <td>11678.1300</td>\n",
              "      <td>240</td>\n",
              "      <td>0.0</td>\n",
              "      <td>4008.6871</td>\n",
              "    </tr>\n",
              "    <tr>\n",
              "      <th>3</th>\n",
              "      <td>0</td>\n",
              "      <td>California</td>\n",
              "      <td>457687.6315</td>\n",
              "      <td>7667</td>\n",
              "      <td>145.6</td>\n",
              "      <td>76381.3871</td>\n",
              "    </tr>\n",
              "    <tr>\n",
              "      <th>4</th>\n",
              "      <td>17</td>\n",
              "      <td>Colorado</td>\n",
              "      <td>32108.1180</td>\n",
              "      <td>693</td>\n",
              "      <td>57.6</td>\n",
              "      <td>-6527.8579</td>\n",
              "    </tr>\n",
              "  </tbody>\n",
              "</table>\n",
              "</div>"
            ],
            "text/plain": [
              "   index       State        Sales  Quantity  Discount      Profit\n",
              "0     26     Alabama   19510.6400       256       0.0   5786.8253\n",
              "1     15     Arizona   35282.0010       862      68.0  -3427.9246\n",
              "2     30    Arkansas   11678.1300       240       0.0   4008.6871\n",
              "3      0  California  457687.6315      7667     145.6  76381.3871\n",
              "4     17    Colorado   32108.1180       693      57.6  -6527.8579"
            ]
          },
          "metadata": {
            "tags": []
          },
          "execution_count": 53
        }
      ]
    },
    {
      "cell_type": "code",
      "metadata": {
        "execution": {
          "iopub.execute_input": "2021-04-29T04:23:18.480119Z",
          "iopub.status.busy": "2021-04-29T04:23:18.473019Z",
          "iopub.status.idle": "2021-04-29T04:23:18.485169Z",
          "shell.execute_reply": "2021-04-29T04:23:18.484635Z"
        },
        "papermill": {
          "duration": 0.102488,
          "end_time": "2021-04-29T04:23:18.485329",
          "exception": false,
          "start_time": "2021-04-29T04:23:18.382841",
          "status": "completed"
        },
        "tags": [],
        "colab": {
          "base_uri": "https://localhost:8080/",
          "height": 200
        },
        "id": "facial-sunglasses",
        "outputId": "c8edc3a0-6522-427e-afee-4be4af1f7f44"
      },
      "source": [
        "sales.drop('index',1,inplace = True)\n",
        "\n",
        "sales.insert(1, 'State Code', state['State Code'])\n",
        "\n",
        "sales.head()"
      ],
      "id": "facial-sunglasses",
      "execution_count": 54,
      "outputs": [
        {
          "output_type": "execute_result",
          "data": {
            "text/html": [
              "<div>\n",
              "<style scoped>\n",
              "    .dataframe tbody tr th:only-of-type {\n",
              "        vertical-align: middle;\n",
              "    }\n",
              "\n",
              "    .dataframe tbody tr th {\n",
              "        vertical-align: top;\n",
              "    }\n",
              "\n",
              "    .dataframe thead th {\n",
              "        text-align: right;\n",
              "    }\n",
              "</style>\n",
              "<table border=\"1\" class=\"dataframe\">\n",
              "  <thead>\n",
              "    <tr style=\"text-align: right;\">\n",
              "      <th></th>\n",
              "      <th>State</th>\n",
              "      <th>State Code</th>\n",
              "      <th>Sales</th>\n",
              "      <th>Quantity</th>\n",
              "      <th>Discount</th>\n",
              "      <th>Profit</th>\n",
              "    </tr>\n",
              "  </thead>\n",
              "  <tbody>\n",
              "    <tr>\n",
              "      <th>0</th>\n",
              "      <td>Alabama</td>\n",
              "      <td>AL</td>\n",
              "      <td>19510.6400</td>\n",
              "      <td>256</td>\n",
              "      <td>0.0</td>\n",
              "      <td>5786.8253</td>\n",
              "    </tr>\n",
              "    <tr>\n",
              "      <th>1</th>\n",
              "      <td>Arizona</td>\n",
              "      <td>AZ</td>\n",
              "      <td>35282.0010</td>\n",
              "      <td>862</td>\n",
              "      <td>68.0</td>\n",
              "      <td>-3427.9246</td>\n",
              "    </tr>\n",
              "    <tr>\n",
              "      <th>2</th>\n",
              "      <td>Arkansas</td>\n",
              "      <td>AR</td>\n",
              "      <td>11678.1300</td>\n",
              "      <td>240</td>\n",
              "      <td>0.0</td>\n",
              "      <td>4008.6871</td>\n",
              "    </tr>\n",
              "    <tr>\n",
              "      <th>3</th>\n",
              "      <td>California</td>\n",
              "      <td>CA</td>\n",
              "      <td>457687.6315</td>\n",
              "      <td>7667</td>\n",
              "      <td>145.6</td>\n",
              "      <td>76381.3871</td>\n",
              "    </tr>\n",
              "    <tr>\n",
              "      <th>4</th>\n",
              "      <td>Colorado</td>\n",
              "      <td>CO</td>\n",
              "      <td>32108.1180</td>\n",
              "      <td>693</td>\n",
              "      <td>57.6</td>\n",
              "      <td>-6527.8579</td>\n",
              "    </tr>\n",
              "  </tbody>\n",
              "</table>\n",
              "</div>"
            ],
            "text/plain": [
              "        State State Code        Sales  Quantity  Discount      Profit\n",
              "0     Alabama         AL   19510.6400       256       0.0   5786.8253\n",
              "1     Arizona         AZ   35282.0010       862      68.0  -3427.9246\n",
              "2    Arkansas         AR   11678.1300       240       0.0   4008.6871\n",
              "3  California         CA  457687.6315      7667     145.6  76381.3871\n",
              "4    Colorado         CO   32108.1180       693      57.6  -6527.8579"
            ]
          },
          "metadata": {
            "tags": []
          },
          "execution_count": 54
        }
      ]
    },
    {
      "cell_type": "code",
      "metadata": {
        "execution": {
          "iopub.execute_input": "2021-04-29T04:23:18.661108Z",
          "iopub.status.busy": "2021-04-29T04:23:18.660403Z",
          "iopub.status.idle": "2021-04-29T04:23:18.847944Z",
          "shell.execute_reply": "2021-04-29T04:23:18.848417Z"
        },
        "papermill": {
          "duration": 0.279964,
          "end_time": "2021-04-29T04:23:18.848601",
          "exception": false,
          "start_time": "2021-04-29T04:23:18.568637",
          "status": "completed"
        },
        "tags": [],
        "colab": {
          "base_uri": "https://localhost:8080/",
          "height": 542
        },
        "id": "pointed-mission",
        "outputId": "1bb1f5c7-38b3-442d-ec26-1c3709e50794"
      },
      "source": [
        "import plotly.graph_objects as go\n",
        "\n",
        "sales['states'] = sales['State']\n",
        "usa = go.Figure(data=go.Choropleth(\n",
        "    locations=sales['State Code'], # Spatial coordinates\n",
        "    text=sales['states'],\n",
        "    z = sales['Sales'].astype(float), # Data to be color-coded\n",
        "    locationmode = 'USA-states', # set of locations match entries in `locations`\n",
        "    colorscale = 'darkmint', #some cool colors sunsetdark, plotly3, mint, bluyl, darkmint, aggrnyl, algae, blues, blugrn, dense, emrld\n",
        "    colorbar_title = \"Sales\",\n",
        "    \n",
        "))\n",
        "\n",
        "usa.update_layout(\n",
        "    title_text = 'State wise Sales',\n",
        "    geo_scope='usa', # limit map scope to USA\n",
        ")\n",
        "\n",
        "usa.show();"
      ],
      "id": "pointed-mission",
      "execution_count": 55,
      "outputs": [
        {
          "output_type": "display_data",
          "data": {
            "text/html": [
              "<html>\n",
              "<head><meta charset=\"utf-8\" /></head>\n",
              "<body>\n",
              "    <div>\n",
              "            <script src=\"https://cdnjs.cloudflare.com/ajax/libs/mathjax/2.7.5/MathJax.js?config=TeX-AMS-MML_SVG\"></script><script type=\"text/javascript\">if (window.MathJax) {MathJax.Hub.Config({SVG: {font: \"STIX-Web\"}});}</script>\n",
              "                <script type=\"text/javascript\">window.PlotlyConfig = {MathJaxConfig: 'local'};</script>\n",
              "        <script src=\"https://cdn.plot.ly/plotly-latest.min.js\"></script>    \n",
              "            <div id=\"e0e94a2a-2cba-478a-9098-000ceade0c75\" class=\"plotly-graph-div\" style=\"height:525px; width:100%;\"></div>\n",
              "            <script type=\"text/javascript\">\n",
              "                \n",
              "                    window.PLOTLYENV=window.PLOTLYENV || {};\n",
              "                    \n",
              "                if (document.getElementById(\"e0e94a2a-2cba-478a-9098-000ceade0c75\")) {\n",
              "                    Plotly.newPlot(\n",
              "                        'e0e94a2a-2cba-478a-9098-000ceade0c75',\n",
              "                        [{\"colorbar\": {\"title\": {\"text\": \"Sales\"}}, \"colorscale\": [[0.0, \"rgb(210, 251, 212)\"], [0.16666666666666666, \"rgb(165, 219, 194)\"], [0.3333333333333333, \"rgb(123, 188, 176)\"], [0.5, \"rgb(85, 156, 158)\"], [0.6666666666666666, \"rgb(58, 124, 137)\"], [0.8333333333333334, \"rgb(35, 93, 114)\"], [1.0, \"rgb(18, 63, 90)\"]], \"locationmode\": \"USA-states\", \"locations\": [\"AL\", \"AZ\", \"AR\", \"CA\", \"CO\", \"CT\", \"DE\", \"FL\", \"GA\", \"HI\", \"ID\", \"IL\", \"IN\", \"IA\", \"KS\", \"KY\", \"LA\", \"ME\", \"MD\", \"MA\", \"MI\", \"MN\", \"MS\", \"MO\", \"MT\", \"NE\", \"NV\", \"NH\", \"NJ\", \"NM\", \"NY\", \"NC\", \"ND\", \"OH\", \"OK\", \"OR\", \"PA\", \"RI\", \"SC\", \"SD\", \"TN\", \"TX\", \"UT\", \"VT\", \"VA\", \"WA\", \"WV\", \"WI\", \"WY\"], \"text\": [\"Alabama\", \"Arizona\", \"Arkansas\", \"California\", \"Colorado\", \"Connecticut\", \"Delaware\", \"District of Columbia\", \"Florida\", \"Georgia\", \"Idaho\", \"Illinois\", \"Indiana\", \"Iowa\", \"Kansas\", \"Kentucky\", \"Louisiana\", \"Maine\", \"Maryland\", \"Massachusetts\", \"Michigan\", \"Minnesota\", \"Mississippi\", \"Missouri\", \"Montana\", \"Nebraska\", \"Nevada\", \"New Hampshire\", \"New Jersey\", \"New Mexico\", \"New York\", \"North Carolina\", \"North Dakota\", \"Ohio\", \"Oklahoma\", \"Oregon\", \"Pennsylvania\", \"Rhode Island\", \"South Carolina\", \"South Dakota\", \"Tennessee\", \"Texas\", \"Utah\", \"Vermont\", \"Virginia\", \"Washington\", \"West Virginia\", \"Wisconsin\", \"Wyoming\"], \"type\": \"choropleth\", \"z\": [19510.639999999992, 35282.001, 11678.129999999997, 457687.631500001, 32108.118, 13384.356999999996, 27451.068999999992, 2865.0199999999995, 89473.708, 49095.840000000004, 4382.486000000002, 80166.10099999985, 53555.36, 4579.759999999999, 2914.31, 36591.74999999997, 9217.029999999999, 1270.5300000000002, 23705.523, 28634.433999999994, 76269.61400000002, 29863.149999999994, 10771.34, 22205.149999999998, 5589.351999999997, 7464.9299999999985, 16729.102, 7292.523999999999, 35764.31200000001, 4783.521999999999, 310876.2709999998, 55603.16399999997, 919.91, 78258.13599999993, 19683.39, 17431.14999999999, 116511.91400000003, 22627.955999999995, 8481.71, 1315.5600000000002, 30661.87299999998, 170188.04580000005, 11220.055999999999, 8929.369999999999, 70636.71999999999, 138641.26999999993, 1209.824, 32114.61000000002, 1603.136]}],\n",
              "                        {\"geo\": {\"scope\": \"usa\"}, \"template\": {\"data\": {\"bar\": [{\"error_x\": {\"color\": \"#2a3f5f\"}, \"error_y\": {\"color\": \"#2a3f5f\"}, \"marker\": {\"line\": {\"color\": \"#E5ECF6\", \"width\": 0.5}}, \"type\": \"bar\"}], \"barpolar\": [{\"marker\": {\"line\": {\"color\": \"#E5ECF6\", \"width\": 0.5}}, \"type\": \"barpolar\"}], \"carpet\": [{\"aaxis\": {\"endlinecolor\": \"#2a3f5f\", \"gridcolor\": \"white\", \"linecolor\": \"white\", \"minorgridcolor\": \"white\", \"startlinecolor\": \"#2a3f5f\"}, \"baxis\": {\"endlinecolor\": \"#2a3f5f\", \"gridcolor\": \"white\", \"linecolor\": \"white\", \"minorgridcolor\": \"white\", \"startlinecolor\": \"#2a3f5f\"}, \"type\": \"carpet\"}], \"choropleth\": [{\"colorbar\": {\"outlinewidth\": 0, \"ticks\": \"\"}, \"type\": \"choropleth\"}], \"contour\": [{\"colorbar\": {\"outlinewidth\": 0, \"ticks\": \"\"}, \"colorscale\": [[0.0, \"#0d0887\"], [0.1111111111111111, \"#46039f\"], [0.2222222222222222, \"#7201a8\"], [0.3333333333333333, \"#9c179e\"], [0.4444444444444444, \"#bd3786\"], [0.5555555555555556, \"#d8576b\"], [0.6666666666666666, \"#ed7953\"], [0.7777777777777778, \"#fb9f3a\"], [0.8888888888888888, \"#fdca26\"], [1.0, \"#f0f921\"]], \"type\": \"contour\"}], \"contourcarpet\": [{\"colorbar\": {\"outlinewidth\": 0, \"ticks\": \"\"}, \"type\": \"contourcarpet\"}], \"heatmap\": [{\"colorbar\": {\"outlinewidth\": 0, \"ticks\": \"\"}, \"colorscale\": [[0.0, \"#0d0887\"], [0.1111111111111111, \"#46039f\"], [0.2222222222222222, \"#7201a8\"], [0.3333333333333333, \"#9c179e\"], [0.4444444444444444, \"#bd3786\"], [0.5555555555555556, \"#d8576b\"], [0.6666666666666666, \"#ed7953\"], [0.7777777777777778, \"#fb9f3a\"], [0.8888888888888888, \"#fdca26\"], [1.0, \"#f0f921\"]], \"type\": \"heatmap\"}], \"heatmapgl\": [{\"colorbar\": {\"outlinewidth\": 0, \"ticks\": \"\"}, \"colorscale\": [[0.0, \"#0d0887\"], [0.1111111111111111, \"#46039f\"], [0.2222222222222222, \"#7201a8\"], [0.3333333333333333, \"#9c179e\"], [0.4444444444444444, \"#bd3786\"], [0.5555555555555556, \"#d8576b\"], [0.6666666666666666, \"#ed7953\"], [0.7777777777777778, \"#fb9f3a\"], [0.8888888888888888, \"#fdca26\"], [1.0, \"#f0f921\"]], \"type\": \"heatmapgl\"}], \"histogram\": [{\"marker\": {\"colorbar\": {\"outlinewidth\": 0, \"ticks\": \"\"}}, \"type\": \"histogram\"}], \"histogram2d\": [{\"colorbar\": {\"outlinewidth\": 0, \"ticks\": \"\"}, \"colorscale\": [[0.0, \"#0d0887\"], [0.1111111111111111, \"#46039f\"], [0.2222222222222222, \"#7201a8\"], [0.3333333333333333, \"#9c179e\"], [0.4444444444444444, \"#bd3786\"], [0.5555555555555556, \"#d8576b\"], [0.6666666666666666, \"#ed7953\"], [0.7777777777777778, \"#fb9f3a\"], [0.8888888888888888, \"#fdca26\"], [1.0, \"#f0f921\"]], \"type\": \"histogram2d\"}], \"histogram2dcontour\": [{\"colorbar\": {\"outlinewidth\": 0, \"ticks\": \"\"}, \"colorscale\": [[0.0, \"#0d0887\"], [0.1111111111111111, \"#46039f\"], [0.2222222222222222, \"#7201a8\"], [0.3333333333333333, \"#9c179e\"], [0.4444444444444444, \"#bd3786\"], [0.5555555555555556, \"#d8576b\"], [0.6666666666666666, \"#ed7953\"], [0.7777777777777778, \"#fb9f3a\"], [0.8888888888888888, \"#fdca26\"], [1.0, \"#f0f921\"]], \"type\": \"histogram2dcontour\"}], \"mesh3d\": [{\"colorbar\": {\"outlinewidth\": 0, \"ticks\": \"\"}, \"type\": \"mesh3d\"}], \"parcoords\": [{\"line\": {\"colorbar\": {\"outlinewidth\": 0, \"ticks\": \"\"}}, \"type\": \"parcoords\"}], \"pie\": [{\"automargin\": true, \"type\": \"pie\"}], \"scatter\": [{\"marker\": {\"colorbar\": {\"outlinewidth\": 0, \"ticks\": \"\"}}, \"type\": \"scatter\"}], \"scatter3d\": [{\"line\": {\"colorbar\": {\"outlinewidth\": 0, \"ticks\": \"\"}}, \"marker\": {\"colorbar\": {\"outlinewidth\": 0, \"ticks\": \"\"}}, \"type\": \"scatter3d\"}], \"scattercarpet\": [{\"marker\": {\"colorbar\": {\"outlinewidth\": 0, \"ticks\": \"\"}}, \"type\": \"scattercarpet\"}], \"scattergeo\": [{\"marker\": {\"colorbar\": {\"outlinewidth\": 0, \"ticks\": \"\"}}, \"type\": \"scattergeo\"}], \"scattergl\": [{\"marker\": {\"colorbar\": {\"outlinewidth\": 0, \"ticks\": \"\"}}, \"type\": \"scattergl\"}], \"scattermapbox\": [{\"marker\": {\"colorbar\": {\"outlinewidth\": 0, \"ticks\": \"\"}}, \"type\": \"scattermapbox\"}], \"scatterpolar\": [{\"marker\": {\"colorbar\": {\"outlinewidth\": 0, \"ticks\": \"\"}}, \"type\": \"scatterpolar\"}], \"scatterpolargl\": [{\"marker\": {\"colorbar\": {\"outlinewidth\": 0, \"ticks\": \"\"}}, \"type\": \"scatterpolargl\"}], \"scatterternary\": [{\"marker\": {\"colorbar\": {\"outlinewidth\": 0, \"ticks\": \"\"}}, \"type\": \"scatterternary\"}], \"surface\": [{\"colorbar\": {\"outlinewidth\": 0, \"ticks\": \"\"}, \"colorscale\": [[0.0, \"#0d0887\"], [0.1111111111111111, \"#46039f\"], [0.2222222222222222, \"#7201a8\"], [0.3333333333333333, \"#9c179e\"], [0.4444444444444444, \"#bd3786\"], [0.5555555555555556, \"#d8576b\"], [0.6666666666666666, \"#ed7953\"], [0.7777777777777778, \"#fb9f3a\"], [0.8888888888888888, \"#fdca26\"], [1.0, \"#f0f921\"]], \"type\": \"surface\"}], \"table\": [{\"cells\": {\"fill\": {\"color\": \"#EBF0F8\"}, \"line\": {\"color\": \"white\"}}, \"header\": {\"fill\": {\"color\": \"#C8D4E3\"}, \"line\": {\"color\": \"white\"}}, \"type\": \"table\"}]}, \"layout\": {\"annotationdefaults\": {\"arrowcolor\": \"#2a3f5f\", \"arrowhead\": 0, \"arrowwidth\": 1}, \"coloraxis\": {\"colorbar\": {\"outlinewidth\": 0, \"ticks\": \"\"}}, \"colorscale\": {\"diverging\": [[0, \"#8e0152\"], [0.1, \"#c51b7d\"], [0.2, \"#de77ae\"], [0.3, \"#f1b6da\"], [0.4, \"#fde0ef\"], [0.5, \"#f7f7f7\"], [0.6, \"#e6f5d0\"], [0.7, \"#b8e186\"], [0.8, \"#7fbc41\"], [0.9, \"#4d9221\"], [1, \"#276419\"]], \"sequential\": [[0.0, \"#0d0887\"], [0.1111111111111111, \"#46039f\"], [0.2222222222222222, \"#7201a8\"], [0.3333333333333333, \"#9c179e\"], [0.4444444444444444, \"#bd3786\"], [0.5555555555555556, \"#d8576b\"], [0.6666666666666666, \"#ed7953\"], [0.7777777777777778, \"#fb9f3a\"], [0.8888888888888888, \"#fdca26\"], [1.0, \"#f0f921\"]], \"sequentialminus\": [[0.0, \"#0d0887\"], [0.1111111111111111, \"#46039f\"], [0.2222222222222222, \"#7201a8\"], [0.3333333333333333, \"#9c179e\"], [0.4444444444444444, \"#bd3786\"], [0.5555555555555556, \"#d8576b\"], [0.6666666666666666, \"#ed7953\"], [0.7777777777777778, \"#fb9f3a\"], [0.8888888888888888, \"#fdca26\"], [1.0, \"#f0f921\"]]}, \"colorway\": [\"#636efa\", \"#EF553B\", \"#00cc96\", \"#ab63fa\", \"#FFA15A\", \"#19d3f3\", \"#FF6692\", \"#B6E880\", \"#FF97FF\", \"#FECB52\"], \"font\": {\"color\": \"#2a3f5f\"}, \"geo\": {\"bgcolor\": \"white\", \"lakecolor\": \"white\", \"landcolor\": \"#E5ECF6\", \"showlakes\": true, \"showland\": true, \"subunitcolor\": \"white\"}, \"hoverlabel\": {\"align\": \"left\"}, \"hovermode\": \"closest\", \"mapbox\": {\"style\": \"light\"}, \"paper_bgcolor\": \"white\", \"plot_bgcolor\": \"#E5ECF6\", \"polar\": {\"angularaxis\": {\"gridcolor\": \"white\", \"linecolor\": \"white\", \"ticks\": \"\"}, \"bgcolor\": \"#E5ECF6\", \"radialaxis\": {\"gridcolor\": \"white\", \"linecolor\": \"white\", \"ticks\": \"\"}}, \"scene\": {\"xaxis\": {\"backgroundcolor\": \"#E5ECF6\", \"gridcolor\": \"white\", \"gridwidth\": 2, \"linecolor\": \"white\", \"showbackground\": true, \"ticks\": \"\", \"zerolinecolor\": \"white\"}, \"yaxis\": {\"backgroundcolor\": \"#E5ECF6\", \"gridcolor\": \"white\", \"gridwidth\": 2, \"linecolor\": \"white\", \"showbackground\": true, \"ticks\": \"\", \"zerolinecolor\": \"white\"}, \"zaxis\": {\"backgroundcolor\": \"#E5ECF6\", \"gridcolor\": \"white\", \"gridwidth\": 2, \"linecolor\": \"white\", \"showbackground\": true, \"ticks\": \"\", \"zerolinecolor\": \"white\"}}, \"shapedefaults\": {\"line\": {\"color\": \"#2a3f5f\"}}, \"ternary\": {\"aaxis\": {\"gridcolor\": \"white\", \"linecolor\": \"white\", \"ticks\": \"\"}, \"baxis\": {\"gridcolor\": \"white\", \"linecolor\": \"white\", \"ticks\": \"\"}, \"bgcolor\": \"#E5ECF6\", \"caxis\": {\"gridcolor\": \"white\", \"linecolor\": \"white\", \"ticks\": \"\"}}, \"title\": {\"x\": 0.05}, \"xaxis\": {\"automargin\": true, \"gridcolor\": \"white\", \"linecolor\": \"white\", \"ticks\": \"\", \"title\": {\"standoff\": 15}, \"zerolinecolor\": \"white\", \"zerolinewidth\": 2}, \"yaxis\": {\"automargin\": true, \"gridcolor\": \"white\", \"linecolor\": \"white\", \"ticks\": \"\", \"title\": {\"standoff\": 15}, \"zerolinecolor\": \"white\", \"zerolinewidth\": 2}}}, \"title\": {\"text\": \"State wise Sales\"}},\n",
              "                        {\"responsive\": true}\n",
              "                    ).then(function(){\n",
              "                            \n",
              "var gd = document.getElementById('e0e94a2a-2cba-478a-9098-000ceade0c75');\n",
              "var x = new MutationObserver(function (mutations, observer) {{\n",
              "        var display = window.getComputedStyle(gd).display;\n",
              "        if (!display || display === 'none') {{\n",
              "            console.log([gd, 'removed!']);\n",
              "            Plotly.purge(gd);\n",
              "            observer.disconnect();\n",
              "        }}\n",
              "}});\n",
              "\n",
              "// Listen for the removal of the full notebook cells\n",
              "var notebookContainer = gd.closest('#notebook-container');\n",
              "if (notebookContainer) {{\n",
              "    x.observe(notebookContainer, {childList: true});\n",
              "}}\n",
              "\n",
              "// Listen for the clearing of the current output cell\n",
              "var outputEl = gd.closest('.output');\n",
              "if (outputEl) {{\n",
              "    x.observe(outputEl, {childList: true});\n",
              "}}\n",
              "\n",
              "                        })\n",
              "                };\n",
              "                \n",
              "            </script>\n",
              "        </div>\n",
              "</body>\n",
              "</html>"
            ]
          },
          "metadata": {
            "tags": []
          }
        }
      ]
    },
    {
      "cell_type": "markdown",
      "metadata": {
        "id": "GrJFJekImeMS"
      },
      "source": [
        "\n",
        "From the above Choropleth Map california has large no of sales"
      ],
      "id": "GrJFJekImeMS"
    },
    {
      "cell_type": "code",
      "metadata": {
        "papermill": {
          "duration": 0.084192,
          "end_time": "2021-04-29T04:23:19.017126",
          "exception": false,
          "start_time": "2021-04-29T04:23:18.932934",
          "status": "completed"
        },
        "tags": [],
        "colab": {
          "base_uri": "https://localhost:8080/",
          "height": 562
        },
        "id": "impressive-visit",
        "outputId": "3b924a35-2ff2-497c-8f06-59bf4971e22b"
      },
      "source": [
        "ps = df.groupby('Sub-Category')[['Sales','Profit']].sum().sort_values(by='Sales',ascending=False)\n",
        "ps[:].plot.bar(color=['red','lightblue'],figsize=(15,8))\n",
        "plt.title('Profit/loss & Sales across states')\n",
        "plt.xlabel('Sub-Category')\n",
        "plt.ylabel('Profit/loss & Sales')\n",
        "plt.show()"
      ],
      "id": "impressive-visit",
      "execution_count": 56,
      "outputs": [
        {
          "output_type": "display_data",
          "data": {
            "image/png": "[encoded data removed]",
            "text/plain": [
              "<Figure size 1080x576 with 1 Axes>"
            ]
          },
          "metadata": {
            "tags": [],
            "needs_background": "light"
          }
        }
      ]
    },
    {
      "cell_type": "markdown",
      "metadata": {
        "id": "X7CcetXqnWfQ"
      },
      "source": [
        "#Phones sub-category have high sales and Tables and Bookmarks sub-categories facing huge loss."
      ],
      "id": "X7CcetXqnWfQ"
    },
    {
      "cell_type": "code",
      "metadata": {
        "id": "sCrAl-BknSJH"
      },
      "source": [
        ""
      ],
      "id": "sCrAl-BknSJH",
      "execution_count": null,
      "outputs": []
    }
  ]
}